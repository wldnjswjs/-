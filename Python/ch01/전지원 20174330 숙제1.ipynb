{
 "cells": [
  {
   "cell_type": "markdown",
   "id": "bbcc38aa",
   "metadata": {},
   "source": [
    "# 1장 심화 문제\n",
    "\n",
    "-전지원   \n",
    "-20174330"
   ]
  },
  {
   "cell_type": "markdown",
   "id": "7be1f036",
   "metadata": {
    "tags": []
   },
   "source": [
    "## 1.1   \n",
    "(1) 프로그래밍은 컴퓨터가 동작하도록 명령어를 나열하여 작성하는 과정이다.   \n",
    "(2) 인터프리터는 프로그래밍 언어의 소스 코드를 바로 실행하는 컴퓨터 프로그램 또는 환경을 말한다.   \n",
    "(3) 컴파일러는 특정 프로그래밍 언어로 쓰여 있는 문서를 다른 프로그래밍 언어로 옮기는 언어 번역 프로그램을 말한다.   \n",
    "(4) 통합개발 환경은 프로그램 개발에 관련된 모든 작업을 하나의 프로그램 안에서 처리하는 환경을 제공하는 소프트웨어이다.   \n",
    "(5) 프롬프트는 컴퓨터 터미녈의 CLI의 명령줄 대기모드를 가리킨다. 키보드 입력을 받으려고 대기하고 있는 곳이다.   \n",
    "(6) 라이브러리는 주로 소프트웨어를 개발할 때 컴퓨터 프로그램이 사용하는 비휘발성 자원의 모임이다.   \n",
    "(7) 문자열은 문자들의 나열을 말한다.   \n",
    "(8) 표현식은 값을 반환하는 식 또는 코드를 말한다.   "
   ]
  },
  {
   "cell_type": "markdown",
   "id": "6151f7bf",
   "metadata": {},
   "source": [
    "crtl N   \n",
    "F5   \n"
   ]
  },
  {
   "cell_type": "markdown",
   "id": "a03557ba",
   "metadata": {},
   "source": [
    "## 1.3"
   ]
  },
  {
   "cell_type": "code",
   "execution_count": 3,
   "id": "b2457db4",
   "metadata": {},
   "outputs": [
    {
     "name": "stdout",
     "output_type": "stream",
     "text": [
      "100\n",
      "300\n",
      "100 + 200\n",
      "100 200\n",
      "100 200\n",
      "100200\n",
      "Hello Python!\n",
      "Hello Python !\n",
      "HelloPython!\n",
      "HelloPython!\n",
      "********************\n",
      "********************\n"
     ]
    }
   ],
   "source": [
    "print(100)\n",
    "print(100 + 200)\n",
    "print('100 + 200')\n",
    "print(100, 200)\n",
    "print('100', '200')\n",
    "print('100''200')\n",
    "print('Hello Python!')\n",
    "print('Hello', 'Python', '!')\n",
    "print('Hello' + 'Python' + '!')\n",
    "print('Hello''Python''!')\n",
    "print('********************')\n",
    "print('*' * 20)"
   ]
  },
  {
   "cell_type": "markdown",
   "id": "c24a82c9",
   "metadata": {},
   "source": [
    "## 1.4"
   ]
  },
  {
   "cell_type": "code",
   "execution_count": 4,
   "id": "bedac2d0",
   "metadata": {},
   "outputs": [
    {
     "ename": "SyntaxError",
     "evalue": "EOL while scanning string literal (Temp/ipykernel_20720/2603088217.py, line 1)",
     "output_type": "error",
     "traceback": [
      "\u001b[1;36m  File \u001b[1;32m\"C:\\Users\\82105\\AppData\\Local\\Temp/ipykernel_20720/2603088217.py\"\u001b[1;36m, line \u001b[1;32m1\u001b[0m\n\u001b[1;33m    print('Hello Pyhton!\")\u001b[0m\n\u001b[1;37m                          ^\u001b[0m\n\u001b[1;31mSyntaxError\u001b[0m\u001b[1;31m:\u001b[0m EOL while scanning string literal\n"
     ]
    }
   ],
   "source": [
    "print('Hello Pyhton!\")"
   ]
  },
  {
   "cell_type": "markdown",
   "id": "30acffca",
   "metadata": {},
   "source": [
    "큰따옴표가 아니라 작은 따옴표가 쓰여야 한다."
   ]
  },
  {
   "cell_type": "code",
   "execution_count": 5,
   "id": "a97b225b",
   "metadata": {},
   "outputs": [
    {
     "name": "stdout",
     "output_type": "stream",
     "text": [
      "Hello Python!\n"
     ]
    }
   ],
   "source": [
    "print('Hello Python!')"
   ]
  },
  {
   "cell_type": "code",
   "execution_count": 6,
   "id": "63b21339",
   "metadata": {},
   "outputs": [
    {
     "ename": "SyntaxError",
     "evalue": "invalid syntax (Temp/ipykernel_20720/1333417461.py, line 1)",
     "output_type": "error",
     "traceback": [
      "\u001b[1;36m  File \u001b[1;32m\"C:\\Users\\82105\\AppData\\Local\\Temp/ipykernel_20720/1333417461.py\"\u001b[1;36m, line \u001b[1;32m1\u001b[0m\n\u001b[1;33m    print('*' 20)\u001b[0m\n\u001b[1;37m              ^\u001b[0m\n\u001b[1;31mSyntaxError\u001b[0m\u001b[1;31m:\u001b[0m invalid syntax\n"
     ]
    }
   ],
   "source": [
    "print('*' 20)"
   ]
  },
  {
   "cell_type": "markdown",
   "id": "a3171326",
   "metadata": {},
   "source": [
    "사이에 곱셈기호를 넣어야한다."
   ]
  },
  {
   "cell_type": "code",
   "execution_count": 8,
   "id": "1d1142f0",
   "metadata": {},
   "outputs": [
    {
     "name": "stdout",
     "output_type": "stream",
     "text": [
      "********************\n"
     ]
    }
   ],
   "source": [
    "print('*' * 20)"
   ]
  },
  {
   "cell_type": "code",
   "execution_count": 9,
   "id": "3896fb2b",
   "metadata": {},
   "outputs": [
    {
     "ename": "SyntaxError",
     "evalue": "invalid syntax (Temp/ipykernel_20720/3069858107.py, line 1)",
     "output_type": "error",
     "traceback": [
      "\u001b[1;36m  File \u001b[1;32m\"C:\\Users\\82105\\AppData\\Local\\Temp/ipykernel_20720/3069858107.py\"\u001b[1;36m, line \u001b[1;32m1\u001b[0m\n\u001b[1;33m    print(Life is short learn Python!)\u001b[0m\n\u001b[1;37m                        ^\u001b[0m\n\u001b[1;31mSyntaxError\u001b[0m\u001b[1;31m:\u001b[0m invalid syntax\n"
     ]
    }
   ],
   "source": [
    "print(Life is short learn Python!)"
   ]
  },
  {
   "cell_type": "markdown",
   "id": "56b40e98",
   "metadata": {},
   "source": [
    "문자열은 ''를 사용하여야 한다."
   ]
  },
  {
   "cell_type": "code",
   "execution_count": 10,
   "id": "aff8b720",
   "metadata": {},
   "outputs": [
    {
     "name": "stdout",
     "output_type": "stream",
     "text": [
      "Life is short learn Python!\n"
     ]
    }
   ],
   "source": [
    "print('Life is short learn Python!')"
   ]
  },
  {
   "cell_type": "code",
   "execution_count": 11,
   "id": "4773b8be",
   "metadata": {},
   "outputs": [
    {
     "ename": "TypeError",
     "evalue": "unsupported operand type(s) for +: 'int' and 'str'",
     "output_type": "error",
     "traceback": [
      "\u001b[1;31m---------------------------------------------------------------------------\u001b[0m",
      "\u001b[1;31mTypeError\u001b[0m                                 Traceback (most recent call last)",
      "\u001b[1;32m~\\AppData\\Local\\Temp/ipykernel_20720/3895900856.py\u001b[0m in \u001b[0;36m<module>\u001b[1;34m\u001b[0m\n\u001b[1;32m----> 1\u001b[1;33m \u001b[0mprint\u001b[0m\u001b[1;33m(\u001b[0m\u001b[1;36m100\u001b[0m \u001b[1;33m+\u001b[0m \u001b[1;34m'200'\u001b[0m\u001b[1;33m)\u001b[0m\u001b[1;33m\u001b[0m\u001b[1;33m\u001b[0m\u001b[0m\n\u001b[0m",
      "\u001b[1;31mTypeError\u001b[0m: unsupported operand type(s) for +: 'int' and 'str'"
     ]
    }
   ],
   "source": [
    "print(100 + '200')"
   ]
  },
  {
   "cell_type": "markdown",
   "id": "88964a9f",
   "metadata": {},
   "source": [
    "합을 출력할 시에는 따옴표를 쓰지 않고 수식만 적는다"
   ]
  },
  {
   "cell_type": "code",
   "execution_count": 12,
   "id": "cb1fc667",
   "metadata": {},
   "outputs": [
    {
     "name": "stdout",
     "output_type": "stream",
     "text": [
      "300\n"
     ]
    }
   ],
   "source": [
    "print(100 + 200)"
   ]
  },
  {
   "cell_type": "markdown",
   "id": "062bbdd4",
   "metadata": {},
   "source": [
    "## 1.5"
   ]
  },
  {
   "cell_type": "code",
   "execution_count": 13,
   "id": "b3fb5b58",
   "metadata": {},
   "outputs": [
    {
     "name": "stdout",
     "output_type": "stream",
     "text": [
      "I love Python!I love Python!I love Python!I love Python!I love Python!\n"
     ]
    }
   ],
   "source": [
    "print('I love Python!' * 5)"
   ]
  },
  {
   "cell_type": "markdown",
   "id": "71c520d3",
   "metadata": {},
   "source": [
    "## 1.6"
   ]
  },
  {
   "cell_type": "code",
   "execution_count": 16,
   "id": "674ddd48",
   "metadata": {},
   "outputs": [
    {
     "name": "stdout",
     "output_type": "stream",
     "text": [
      "*\n",
      "**\n",
      "***\n",
      "****\n",
      "*****\n"
     ]
    }
   ],
   "source": [
    "print('*')\n",
    "print('*' * 2)\n",
    "print('*' * 3)\n",
    "print('*' * 4)\n",
    "print('*' * 5)"
   ]
  },
  {
   "cell_type": "markdown",
   "id": "a6765b2b",
   "metadata": {},
   "source": [
    "## 1.7\n",
    "(1)"
   ]
  },
  {
   "cell_type": "code",
   "execution_count": 1,
   "id": "c9b2ad66",
   "metadata": {},
   "outputs": [],
   "source": [
    "import turtle\n",
    "t = turtle.Turtle()\n",
    "t.shape('turtle')"
   ]
  },
  {
   "cell_type": "code",
   "execution_count": 2,
   "id": "e1f0645e",
   "metadata": {},
   "outputs": [],
   "source": [
    "t.forward(100)"
   ]
  },
  {
   "cell_type": "code",
   "execution_count": 3,
   "id": "efa2c7d0",
   "metadata": {},
   "outputs": [],
   "source": [
    "t.left(135)\n",
    "t.forward(141.2)"
   ]
  },
  {
   "cell_type": "code",
   "execution_count": 4,
   "id": "a9828fec",
   "metadata": {},
   "outputs": [],
   "source": [
    "t.left(135)\n",
    "t.forward(100)"
   ]
  },
  {
   "cell_type": "code",
   "execution_count": null,
   "id": "cad3d079",
   "metadata": {},
   "outputs": [],
   "source": [
    "turtle.bye()"
   ]
  },
  {
   "cell_type": "markdown",
   "id": "89806ff5",
   "metadata": {},
   "source": [
    "(2)"
   ]
  },
  {
   "cell_type": "code",
   "execution_count": 1,
   "id": "261a4be0",
   "metadata": {},
   "outputs": [],
   "source": [
    "import turtle\n",
    "t=turtle.Turtle()\n",
    "t.shape('turtle')"
   ]
  },
  {
   "cell_type": "code",
   "execution_count": 2,
   "id": "b844cccf",
   "metadata": {},
   "outputs": [],
   "source": [
    "t.forward(100)"
   ]
  },
  {
   "cell_type": "code",
   "execution_count": 3,
   "id": "698e5930",
   "metadata": {},
   "outputs": [],
   "source": [
    "t.left(120)\n",
    "t.forward(100)"
   ]
  },
  {
   "cell_type": "code",
   "execution_count": 4,
   "id": "bc6e7936",
   "metadata": {},
   "outputs": [],
   "source": [
    "t.left(120)\n",
    "t.forward(100)"
   ]
  },
  {
   "cell_type": "code",
   "execution_count": 5,
   "id": "a46f15e2",
   "metadata": {},
   "outputs": [],
   "source": [
    "t.right(120)\n",
    "t.forward(100)"
   ]
  },
  {
   "cell_type": "code",
   "execution_count": 6,
   "id": "70693620",
   "metadata": {},
   "outputs": [],
   "source": [
    "t.right(120)\n",
    "t.forward(100)"
   ]
  },
  {
   "cell_type": "code",
   "execution_count": null,
   "id": "c84ebe68",
   "metadata": {},
   "outputs": [],
   "source": [
    "turtle.bye()"
   ]
  },
  {
   "cell_type": "markdown",
   "id": "a062a1db",
   "metadata": {},
   "source": [
    "## 1.8"
   ]
  },
  {
   "cell_type": "code",
   "execution_count": 7,
   "id": "10b810ec",
   "metadata": {
    "scrolled": true
   },
   "outputs": [
    {
     "name": "stdout",
     "output_type": "stream",
     "text": [
      "300\n",
      "81700\n",
      "2.0\n",
      "729\n",
      "3.0\n",
      "3\n"
     ]
    }
   ],
   "source": [
    "print(400-200+100)\n",
    "print(409*200-100)\n",
    "print(6*3/9)\n",
    "print(9**3)\n",
    "print(9/3)\n",
    "print(9//3)"
   ]
  },
  {
   "cell_type": "markdown",
   "id": "bd02e33b",
   "metadata": {},
   "source": [
    "## 1.9"
   ]
  },
  {
   "cell_type": "code",
   "execution_count": 8,
   "id": "cd8fe0fc",
   "metadata": {},
   "outputs": [
    {
     "name": "stdout",
     "output_type": "stream",
     "text": [
      "55\n",
      "78.5\n",
      "80\n",
      "400\n",
      "80\n",
      "300\n"
     ]
    }
   ],
   "source": [
    "print(1+2+3+4+5+6+7+8+9+10)\n",
    "print(5*5*3.14)\n",
    "print(20*4)\n",
    "print(20*20)\n",
    "print((10+30)*2)\n",
    "print(10*30)"
   ]
  },
  {
   "cell_type": "markdown",
   "id": "1393e9fb",
   "metadata": {},
   "source": [
    "## 1.10"
   ]
  },
  {
   "cell_type": "code",
   "execution_count": 9,
   "id": "9c7b3e78",
   "metadata": {},
   "outputs": [
    {
     "name": "stdout",
     "output_type": "stream",
     "text": [
      "24\n",
      "120\n",
      "720\n"
     ]
    }
   ],
   "source": [
    "print(4*3*2*1)\n",
    "print(5*4*3*2*1)\n",
    "print(6*5*4*3*2*1)"
   ]
  }
 ],
 "metadata": {
  "kernelspec": {
   "display_name": "Python 3 (ipykernel)",
   "language": "python",
   "name": "python3"
  },
  "language_info": {
   "codemirror_mode": {
    "name": "ipython",
    "version": 3
   },
   "file_extension": ".py",
   "mimetype": "text/x-python",
   "name": "python",
   "nbconvert_exporter": "python",
   "pygments_lexer": "ipython3",
   "version": "3.9.7"
  }
 },
 "nbformat": 4,
 "nbformat_minor": 5
}
