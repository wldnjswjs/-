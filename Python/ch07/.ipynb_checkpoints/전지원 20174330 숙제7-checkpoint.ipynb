{
 "cells": [
  {
   "cell_type": "markdown",
   "id": "940e0979-4001-4403-99fe-08db1b8b680a",
   "metadata": {},
   "source": [
    "# 중요사항 정리\n",
    "## 리스트\n",
    "리스트 이름 = [인덱스0, 인덱스1, 인덱스2, ...]   \n",
    "인덱스 값을 활용하여 리스트의 항목에 접근할 수 있다.   \n",
    "빈 리스트도 만들 수 있다.    \n",
    "빈 리스트에 새롭게 추가할 때 append(항목) 메소드를 사용한다. 리스트 이름.append('추가할 값')   \n",
    "또는 리스트 이름  = 리스트 이름 + ['추가할 값'] 이런식으로도 추가 가능   \n",
    "리스트는 연산도 가능하다. +연산은 추가되고 * 연산은 반복되어 저장된다.   \n",
    "in 연산자는 리스트에 어떤 값이 포함되는 지를 확인할 수 있다.   \n",
    "리스트 안에 리스트를 인덱스 값으로 가질 수 있다.   \n",
    "인덱스를 음수로 줄 수 있다. 맨끝에서 부터 -1로 시작해서 1씩 작아진다.   \n",
    "슬라이싱 -> 리스트 이름[시작값 : 끝값 : step값]   \n",
    "리스트를 복제한 새로운 리스트를 만들 때는 blist = list(alist) or blist = alist[:]   \n",
    "리스트 함축 기능은 번거롭게 반복문을 여러줄로 사용하는 것을 한줄로 줄일 수 있다.\n",
    "## 리스트에 사용 가능한 함수\n",
    "len(): 길이를 반환   \n",
    "max(): 리스트 항목 중 최댓값   \n",
    "min(): 리스트 항목 중 최솟값   \n",
    "list(range()): range()함수가 생성한 값을 리스트에 넣는다.   \n",
    "any(): 리스트에 0이 아닌 원소가 하나라도 있으면 True를 반환   \n",
    "## 리스트의 메소드\n",
    "index(x): x를 이용하여 위치를 찾는 기능을 한다.   \n",
    "append(x): x를 리스트의 끝에 추가.   \n",
    "count(x): 리스트내에서 원소 x의 개수.   \n",
    "extend([x1, x2]): [x1, x2]리스트를 기존 리스트에 삽입.   \n",
    "insert(index, x): 원하는 index 위치에 x를 추가.   \n",
    "remove(x): x를 리스트에서 제거.   \n",
    "pop(index): index 위치의 원소를 삭제 후 반환.   \n",
    "sort(): 오름차순으로 값을 정렬.   \n",
    "reverse(): 리스트의 원소들을 역순으로 만든다.   \n",
    "## 튜플\n",
    "튜플 생성은 ()안에 항목들을 넣으면 된다.   \n",
    "튜플은 한번 지정되면 변경될 수 없는 불변속성 자료형이다."
   ]
  },
  {
   "cell_type": "markdown",
   "id": "1b7faa10-e7e6-4eb4-a4d2-ea1e7d1e26c4",
   "metadata": {},
   "source": [
    "# 자기점검\n",
    "튜플의 개념을 새롭게 알 수 있었다. 그리고 리스트의 메소드들을 사용하는데 약간의 어색함을 느꼈다."
   ]
  },
  {
   "cell_type": "markdown",
   "id": "c9250459-1e53-4533-abdf-64f0c8c2783c",
   "metadata": {},
   "source": [
    "# 심화문제 풀기\n",
    "### 7-1"
   ]
  },
  {
   "cell_type": "code",
   "execution_count": 18,
   "id": "91bf74f2-65b7-4a9e-ab54-3a18b4804bd7",
   "metadata": {},
   "outputs": [
    {
     "data": {
      "text/plain": [
       "700"
      ]
     },
     "execution_count": 18,
     "metadata": {},
     "output_type": "execute_result"
    }
   ],
   "source": [
    "num_list = [100, 200, 300, 400, 500, 600, 700, 800]\n",
    "high = 6\n",
    "low = 3\n",
    "num_list[high]"
   ]
  },
  {
   "cell_type": "code",
   "execution_count": 3,
   "id": "577b5ced-228c-4bca-ae71-b51ac1368463",
   "metadata": {},
   "outputs": [
    {
     "data": {
      "text/plain": [
       "500"
      ]
     },
     "execution_count": 3,
     "metadata": {},
     "output_type": "execute_result"
    }
   ],
   "source": [
    "num_list[high - 2]"
   ]
  },
  {
   "cell_type": "code",
   "execution_count": 4,
   "id": "f7e0dae4-98dd-485f-9993-13f3f6fb8d3b",
   "metadata": {},
   "outputs": [
    {
     "data": {
      "text/plain": [
       "400"
      ]
     },
     "execution_count": 4,
     "metadata": {},
     "output_type": "execute_result"
    }
   ],
   "source": [
    "num_list[high - low]"
   ]
  },
  {
   "cell_type": "code",
   "execution_count": 5,
   "id": "a8f9fbc3-ca70-499f-8dfb-c466f2f69e13",
   "metadata": {},
   "outputs": [
    {
     "data": {
      "text/plain": [
       "600"
      ]
     },
     "execution_count": 5,
     "metadata": {},
     "output_type": "execute_result"
    }
   ],
   "source": [
    "num_list[low - high]"
   ]
  },
  {
   "cell_type": "code",
   "execution_count": 6,
   "id": "36251f09-ce48-4348-803c-6c54c8fda5ca",
   "metadata": {},
   "outputs": [
    {
     "data": {
      "text/plain": [
       "800"
      ]
     },
     "execution_count": 6,
     "metadata": {},
     "output_type": "execute_result"
    }
   ],
   "source": [
    "num_list[-1]"
   ]
  },
  {
   "cell_type": "code",
   "execution_count": 7,
   "id": "67909150-2842-467c-8250-3b5510b62e89",
   "metadata": {},
   "outputs": [
    {
     "data": {
      "text/plain": [
       "600"
      ]
     },
     "execution_count": 7,
     "metadata": {},
     "output_type": "execute_result"
    }
   ],
   "source": [
    "num_list[-low]"
   ]
  },
  {
   "cell_type": "code",
   "execution_count": 8,
   "id": "31072531-ce9a-46d8-9822-b3c70f90420a",
   "metadata": {},
   "outputs": [
    {
     "data": {
      "text/plain": [
       "700"
      ]
     },
     "execution_count": 8,
     "metadata": {},
     "output_type": "execute_result"
    }
   ],
   "source": [
    "num_list[2 * 3]"
   ]
  },
  {
   "cell_type": "code",
   "execution_count": 9,
   "id": "7f33448e-baaf-49eb-bd7b-8e6770924573",
   "metadata": {},
   "outputs": [
    {
     "data": {
      "text/plain": [
       "900"
      ]
     },
     "execution_count": 9,
     "metadata": {},
     "output_type": "execute_result"
    }
   ],
   "source": [
    "num_list[2] * 3"
   ]
  },
  {
   "cell_type": "code",
   "execution_count": 10,
   "id": "205d3805-a97d-4f29-85cd-6af42c3c7995",
   "metadata": {},
   "outputs": [
    {
     "data": {
      "text/plain": [
       "200"
      ]
     },
     "execution_count": 10,
     "metadata": {},
     "output_type": "execute_result"
    }
   ],
   "source": [
    "num_list[5 % 4]"
   ]
  },
  {
   "cell_type": "code",
   "execution_count": 11,
   "id": "47d9306f-362a-467d-8fea-bca81659e166",
   "metadata": {},
   "outputs": [
    {
     "data": {
      "text/plain": [
       "8"
      ]
     },
     "execution_count": 11,
     "metadata": {},
     "output_type": "execute_result"
    }
   ],
   "source": [
    "len(num_list)"
   ]
  },
  {
   "cell_type": "code",
   "execution_count": 12,
   "id": "f16af448-9e62-4fc6-a59d-353922b167ab",
   "metadata": {},
   "outputs": [
    {
     "data": {
      "text/plain": [
       "100"
      ]
     },
     "execution_count": 12,
     "metadata": {},
     "output_type": "execute_result"
    }
   ],
   "source": [
    "min(num_list)"
   ]
  },
  {
   "cell_type": "code",
   "execution_count": 13,
   "id": "8d15789d-0f2f-4a90-9a36-f2a0d45c4e53",
   "metadata": {},
   "outputs": [
    {
     "data": {
      "text/plain": [
       "800"
      ]
     },
     "execution_count": 13,
     "metadata": {},
     "output_type": "execute_result"
    }
   ],
   "source": [
    "max(num_list)"
   ]
  },
  {
   "cell_type": "code",
   "execution_count": 14,
   "id": "e1648d97-d2ff-4a83-89a1-c55663d0bf9b",
   "metadata": {},
   "outputs": [
    {
     "data": {
      "text/plain": [
       "[100, 200, 300]"
      ]
     },
     "execution_count": 14,
     "metadata": {},
     "output_type": "execute_result"
    }
   ],
   "source": [
    "num_list[:3]"
   ]
  },
  {
   "cell_type": "code",
   "execution_count": 15,
   "id": "3abcf978-83c2-4eb7-ac1e-016d4c237a9b",
   "metadata": {},
   "outputs": [
    {
     "data": {
      "text/plain": [
       "[200, 300, 400, 500]"
      ]
     },
     "execution_count": 15,
     "metadata": {},
     "output_type": "execute_result"
    }
   ],
   "source": [
    "num_list[1:5]"
   ]
  },
  {
   "cell_type": "code",
   "execution_count": 16,
   "id": "2ca95b5c-5226-4277-a452-3c4118c2ca53",
   "metadata": {},
   "outputs": [
    {
     "data": {
      "text/plain": [
       "[800, 700, 600, 500]"
      ]
     },
     "execution_count": 16,
     "metadata": {},
     "output_type": "execute_result"
    }
   ],
   "source": [
    "num_list[-1:-5:-1]"
   ]
  },
  {
   "cell_type": "code",
   "execution_count": 17,
   "id": "d31c9d79-357e-47af-b9f0-7c86df07792f",
   "metadata": {},
   "outputs": [
    {
     "data": {
      "text/plain": [
       "[400, 500, 600, 700]"
      ]
     },
     "execution_count": 17,
     "metadata": {},
     "output_type": "execute_result"
    }
   ],
   "source": [
    "num_list[-5:-1:1]"
   ]
  },
  {
   "cell_type": "markdown",
   "id": "90258c49-aac8-416c-a322-51e99b674516",
   "metadata": {
    "tags": []
   },
   "source": [
    "### 7-2"
   ]
  },
  {
   "cell_type": "code",
   "execution_count": 22,
   "id": "beca30f5-a72b-417b-9993-be9e33dbad77",
   "metadata": {},
   "outputs": [
    {
     "name": "stdout",
     "output_type": "stream",
     "text": [
      "3 * 2 = 6\n",
      "3 * 3 = 9\n",
      "3 * 4 = 12\n",
      "3 * 5 = 15\n",
      "3 * 6 = 18\n",
      "5 * 2 = 10\n",
      "5 * 3 = 15\n",
      "5 * 4 = 20\n",
      "5 * 5 = 25\n",
      "5 * 6 = 30\n",
      "7 * 2 = 14\n",
      "7 * 3 = 21\n",
      "7 * 4 = 28\n",
      "7 * 5 = 35\n",
      "7 * 6 = 42\n"
     ]
    }
   ],
   "source": [
    "list1 = [3, 5, 7]\n",
    "list2 = [2, 3, 4, 5, 6]\n",
    "for i in list1:\n",
    "    for x in list2:\n",
    "        print('{} * {} = {}'.format(i, x, i*x))"
   ]
  },
  {
   "cell_type": "markdown",
   "id": "421337fe-ecaa-45e5-8157-991d1699cac7",
   "metadata": {
    "tags": []
   },
   "source": [
    "### 7-3"
   ]
  },
  {
   "cell_type": "code",
   "execution_count": 24,
   "id": "88b1f0b0-5944-44ca-8d50-7b956694e336",
   "metadata": {
    "tags": []
   },
   "outputs": [
    {
     "name": "stdout",
     "output_type": "stream",
     "text": [
      "I like pancake.\n",
      "I like kiwi juice.\n",
      "I like espresso.\n",
      "I love pancake.\n",
      "I love kiwi juice.\n",
      "I love espresso.\n"
     ]
    }
   ],
   "source": [
    "list1 = ['I like ', 'I love ']\n",
    "list2 = ['pancake.', 'kiwi juice.', 'espresso.']\n",
    "for i in list1:\n",
    "    for x in list2:\n",
    "        print(i + x)"
   ]
  },
  {
   "cell_type": "markdown",
   "id": "a10de4a3-079e-45e8-a89b-975eeea747ab",
   "metadata": {},
   "source": [
    "### 7-4"
   ]
  },
  {
   "cell_type": "code",
   "execution_count": 25,
   "id": "c2a5d962-e917-43e8-9a83-b05c8cbd8d49",
   "metadata": {},
   "outputs": [
    {
     "ename": "AttributeError",
     "evalue": "'tuple' object has no attribute 'append'",
     "output_type": "error",
     "traceback": [
      "\u001b[1;31m---------------------------------------------------------------------------\u001b[0m",
      "\u001b[1;31mAttributeError\u001b[0m                            Traceback (most recent call last)",
      "\u001b[1;32m~\\AppData\\Local\\Temp/ipykernel_1768/1722827794.py\u001b[0m in \u001b[0;36m<module>\u001b[1;34m\u001b[0m\n\u001b[0;32m      1\u001b[0m \u001b[0mt\u001b[0m \u001b[1;33m=\u001b[0m \u001b[1;33m(\u001b[0m\u001b[1;36m10\u001b[0m\u001b[1;33m,\u001b[0m \u001b[1;36m20\u001b[0m\u001b[1;33m,\u001b[0m \u001b[1;36m30\u001b[0m\u001b[1;33m,\u001b[0m \u001b[1;36m40\u001b[0m\u001b[1;33m)\u001b[0m\u001b[1;33m\u001b[0m\u001b[1;33m\u001b[0m\u001b[0m\n\u001b[1;32m----> 2\u001b[1;33m \u001b[0mt\u001b[0m\u001b[1;33m.\u001b[0m\u001b[0mappend\u001b[0m\u001b[1;33m(\u001b[0m\u001b[1;36m50\u001b[0m\u001b[1;33m)\u001b[0m\u001b[1;33m\u001b[0m\u001b[1;33m\u001b[0m\u001b[0m\n\u001b[0m",
      "\u001b[1;31mAttributeError\u001b[0m: 'tuple' object has no attribute 'append'"
     ]
    }
   ],
   "source": [
    "t = (10, 20, 30, 40)\n",
    "t.append(50)"
   ]
  },
  {
   "cell_type": "markdown",
   "id": "14bb9df1-9604-4725-91ab-d476e76a603d",
   "metadata": {},
   "source": [
    "t는 튜플이므로 불가변속성이어서 append 메소드를 사용할 수 없다. 리스트에만 사용 가능하다."
   ]
  },
  {
   "cell_type": "code",
   "execution_count": 2,
   "id": "106fbd08-afa6-435b-a244-d495e4aaa894",
   "metadata": {},
   "outputs": [
    {
     "ename": "AttributeError",
     "evalue": "'tuple' object has no attribute 'remove'",
     "output_type": "error",
     "traceback": [
      "\u001b[1;31m---------------------------------------------------------------------------\u001b[0m",
      "\u001b[1;31mAttributeError\u001b[0m                            Traceback (most recent call last)",
      "\u001b[1;32m~\\AppData\\Local\\Temp/ipykernel_6736/4054911080.py\u001b[0m in \u001b[0;36m<module>\u001b[1;34m\u001b[0m\n\u001b[0;32m      1\u001b[0m \u001b[0mt\u001b[0m \u001b[1;33m=\u001b[0m \u001b[1;33m(\u001b[0m\u001b[1;36m10\u001b[0m\u001b[1;33m,\u001b[0m \u001b[1;36m20\u001b[0m\u001b[1;33m,\u001b[0m \u001b[1;36m30\u001b[0m\u001b[1;33m,\u001b[0m \u001b[1;36m40\u001b[0m\u001b[1;33m)\u001b[0m\u001b[1;33m\u001b[0m\u001b[1;33m\u001b[0m\u001b[0m\n\u001b[1;32m----> 2\u001b[1;33m \u001b[0mt\u001b[0m\u001b[1;33m.\u001b[0m\u001b[0mremove\u001b[0m\u001b[1;33m(\u001b[0m\u001b[1;36m40\u001b[0m\u001b[1;33m)\u001b[0m\u001b[1;33m\u001b[0m\u001b[1;33m\u001b[0m\u001b[0m\n\u001b[0m",
      "\u001b[1;31mAttributeError\u001b[0m: 'tuple' object has no attribute 'remove'"
     ]
    }
   ],
   "source": [
    "t = (10, 20, 30, 40)\n",
    "t.remove(40)"
   ]
  },
  {
   "cell_type": "markdown",
   "id": "b9a77550-40dc-4d5b-9d02-62a4937cb357",
   "metadata": {},
   "source": [
    "t는 튜플이므로 불가변속성이어서 remove 메소드를 사용할 수 없다. 리스트에만 사용 가능하다."
   ]
  },
  {
   "cell_type": "code",
   "execution_count": 28,
   "id": "72f22e48-720e-4ce6-b1ad-8a85f7a67d95",
   "metadata": {},
   "outputs": [
    {
     "ename": "TypeError",
     "evalue": "'tuple' object does not support item assignment",
     "output_type": "error",
     "traceback": [
      "\u001b[1;31m---------------------------------------------------------------------------\u001b[0m",
      "\u001b[1;31mTypeError\u001b[0m                                 Traceback (most recent call last)",
      "\u001b[1;32m~\\AppData\\Local\\Temp/ipykernel_1768/848212476.py\u001b[0m in \u001b[0;36m<module>\u001b[1;34m\u001b[0m\n\u001b[0;32m      1\u001b[0m \u001b[0mt\u001b[0m \u001b[1;33m=\u001b[0m \u001b[1;33m(\u001b[0m\u001b[1;36m10\u001b[0m\u001b[1;33m,\u001b[0m \u001b[1;36m20\u001b[0m\u001b[1;33m,\u001b[0m \u001b[1;36m30\u001b[0m\u001b[1;33m,\u001b[0m \u001b[1;36m40\u001b[0m\u001b[1;33m)\u001b[0m\u001b[1;33m\u001b[0m\u001b[1;33m\u001b[0m\u001b[0m\n\u001b[1;32m----> 2\u001b[1;33m \u001b[0mt\u001b[0m\u001b[1;33m[\u001b[0m\u001b[1;36m0\u001b[0m\u001b[1;33m]\u001b[0m \u001b[1;33m=\u001b[0m \u001b[1;36m0\u001b[0m\u001b[1;33m\u001b[0m\u001b[1;33m\u001b[0m\u001b[0m\n\u001b[0m",
      "\u001b[1;31mTypeError\u001b[0m: 'tuple' object does not support item assignment"
     ]
    }
   ],
   "source": [
    "t = (10, 20, 30, 40)\n",
    "t[0] = 0"
   ]
  },
  {
   "cell_type": "markdown",
   "id": "f6c1c13c-5258-4e5e-b9c9-293534676537",
   "metadata": {},
   "source": [
    "t는 튜플이므로 불가변속성이이서 다른 인덱스 값으로 바꿀수 없다."
   ]
  },
  {
   "cell_type": "markdown",
   "id": "bdc6a689-fa2b-4586-a8c8-c6fbe90ec03a",
   "metadata": {
    "tags": []
   },
   "source": [
    "### 7-5"
   ]
  },
  {
   "cell_type": "code",
   "execution_count": 4,
   "id": "ad1cc50e-4ef8-49fa-bdaa-2e0f205d5b75",
   "metadata": {},
   "outputs": [
    {
     "name": "stdout",
     "output_type": "stream",
     "text": [
      "['A1', 'B1', 'C1', 'A2', 'B2', 'C2']\n"
     ]
    }
   ],
   "source": [
    "seats = []\n",
    "alp = ['A', 'B', 'C']\n",
    "for n in range(1,3):    \n",
    "    for i in alp:\n",
    "        seats.append('{}{}'.format(i,n))\n",
    "    \n",
    "print(seats)"
   ]
  },
  {
   "cell_type": "code",
   "execution_count": 3,
   "id": "f3fdbeaa-29ec-4c7c-adb3-41c362b545e1",
   "metadata": {},
   "outputs": [
    {
     "name": "stdout",
     "output_type": "stream",
     "text": [
      "['A1', 'A2', 'B1', 'B2', 'C1', 'C2']\n"
     ]
    }
   ],
   "source": [
    "seat_numbers = []\n",
    "for alphabet in ('A', 'B', 'C'):\n",
    "    for num in (1, 2):\n",
    "        seat_numbers.append(alphabet + str(num))\n",
    "\n",
    "print(seat_numbers)\n"
   ]
  },
  {
   "cell_type": "code",
   "execution_count": 46,
   "id": "74287eee-fc32-4711-89e5-fddf1e18df10",
   "metadata": {},
   "outputs": [
    {
     "data": {
      "text/plain": [
       "['A1', 'B1', 'C1', 'A2', 'B2', 'C2']"
      ]
     },
     "execution_count": 46,
     "metadata": {},
     "output_type": "execute_result"
    }
   ],
   "source": [
    "seats = []\n",
    "alp = ['A', 'B', 'C']\n",
    "num = ['1', '2'] \n",
    "for n in num:    \n",
    "    for i in alp:\n",
    "        seats.append('{}{}'.format(i,n))\n",
    "seats"
   ]
  },
  {
   "cell_type": "code",
   "execution_count": 2,
   "id": "1fc12a35-dd00-4949-b806-23a6f88e4118",
   "metadata": {},
   "outputs": [
    {
     "name": "stdout",
     "output_type": "stream",
     "text": [
      "['A1', 'A2', 'B1', 'B2', 'C1', 'C2']\n"
     ]
    }
   ],
   "source": [
    "seat_numbers = []\n",
    "for alphabet in ('A', 'B', 'C'):\n",
    "    for num in ('1', '2'):\n",
    "        seat_numbers.append(alphabet + num)\n",
    "\n",
    "print(seat_numbers)\n"
   ]
  },
  {
   "cell_type": "markdown",
   "id": "c847626f-4553-4fd8-b7fd-854712d909cb",
   "metadata": {},
   "source": [
    "### 7-6"
   ]
  },
  {
   "cell_type": "code",
   "execution_count": 23,
   "id": "0529a6d2-ec1c-4428-bdaa-aa67d639265a",
   "metadata": {},
   "outputs": [
    {
     "name": "stdin",
     "output_type": "stream",
     "text": [
      "문자열을 입력하세요:  python\n"
     ]
    },
    {
     "name": "stdout",
     "output_type": "stream",
     "text": [
      "p\n",
      "py\n",
      "pyt\n",
      "pyth\n",
      "pytho\n",
      "python\n",
      "pytho\n",
      "pyth\n",
      "pyt\n",
      "py\n",
      "p\n",
      "\n"
     ]
    }
   ],
   "source": [
    "str = input('문자열을 입력하세요: ')\n",
    "for i in range(len(str)):\n",
    "    print(str[:i+1])\n",
    "\n",
    "for i in range(len(str)):\n",
    "    print(str[:len(str)-i-1])"
   ]
  },
  {
   "cell_type": "markdown",
   "id": "8e0e02b3-8b3d-4d55-b8c1-70818ee5f307",
   "metadata": {},
   "source": [
    "### 7-7"
   ]
  },
  {
   "cell_type": "code",
   "execution_count": 7,
   "id": "978e82b1-4acf-4cae-80c3-e8fe9dab230e",
   "metadata": {},
   "outputs": [
    {
     "name": "stdout",
     "output_type": "stream",
     "text": [
      "가장 길이가 긴 문자열 : banana orange\n",
      "fruit_list = ['kiwi', 'apple', 'melon']\n"
     ]
    }
   ],
   "source": [
    "fruit_list = ['banana', 'orange', 'kiwi', 'apple', 'melon']\n",
    "maximum = len(max(fruit_list, key=len)) \n",
    "print('가장 길이가 긴 문자열 : ', end = \" \")\n",
    "for i in ['banana', 'orange', 'kiwi', 'apple', 'melon'] :\n",
    "    if len(i) == maximum :\n",
    "        print(i, end = ' ')\n",
    "        fruit_list.remove(i) \n",
    "print('') \n",
    "print('fruit_list =', fruit_list)"
   ]
  },
  {
   "cell_type": "code",
   "execution_count": 9,
   "id": "2b073a39-8bbf-407b-a410-754eeebdd24d",
   "metadata": {},
   "outputs": [
    {
     "name": "stdout",
     "output_type": "stream",
     "text": [
      "가장 길이가 긴 문자열 : banana orange\n",
      "fruit_list = ['kiwi', 'apple', 'melon']\n"
     ]
    }
   ],
   "source": [
    "fruit_list = ['banana','orange','kiwi', 'apple', 'melon']\n",
    "main = len(max(fruit_list, key=len)) #가장 길이가 긴 문자열 구하기\n",
    "mn_fruit = [] #가장 길이가 긴 문자열을 담을 배열 선언\n",
    "#fruit_list 에서 문자열 길이값이 main과 동일한지 비교하고 같을 경우엔 mn_fruit 배열에 넣는다.\n",
    "for i in fruit_list:\n",
    "    if len(i) == main:\n",
    "        mn_fruit.append(i)\n",
    "#  mn_fruit에 있는 값을 fruit_list에서 삭제한다.     \n",
    "for j in mn_fruit:\n",
    "    fruit_list.remove(j)\n",
    "#출력    \n",
    "print('가장 길이가 긴 문자열 :', *mn_fruit)\n",
    "print('fruit_list =', fruit_list)\n"
   ]
  },
  {
   "cell_type": "code",
   "execution_count": 6,
   "id": "d51ce145-0cbb-473e-9207-a1c2a10aeb55",
   "metadata": {},
   "outputs": [
    {
     "name": "stdout",
     "output_type": "stream",
     "text": [
      "가장 길이가 긴 문자열:  banana, orange\n",
      "fruit_list =  ['kiwi', 'apple', 'melon']\n"
     ]
    }
   ],
   "source": [
    "fruit_list = ['banana', 'orange', 'kiwi', 'apple', 'melon']\n",
    "\n",
    "max_length = 0\n",
    "for fruit in fruit_list:\n",
    "    if len(fruit) >= max_length: max_length = len(fruit)\n",
    "\n",
    "longest = []    \n",
    "for fruit in fruit_list:\n",
    "    if len(fruit) == max_length:\n",
    "        longest.append(fruit)\n",
    "\n",
    "for fruit in longest:\n",
    "    fruit_list.remove(fruit)\n",
    "    \n",
    "s_fluits = ', '.join(longest) \n",
    "print('가장 길이가 긴 문자열: ', s_fluits)\n",
    "print('fruit_list = ', fruit_list)\n"
   ]
  },
  {
   "cell_type": "code",
   "execution_count": 11,
   "id": "a8078737-7648-43a6-9d1b-8210734be331",
   "metadata": {},
   "outputs": [
    {
     "name": "stdout",
     "output_type": "stream",
     "text": [
      "banana : 문자열의 길이 6\n",
      "orange : 문자열의 길이 6\n",
      "kiwi : 문자열의 길이 4\n",
      "apple : 문자열의 길이 5\n",
      "melon : 문자열의 길이 5\n"
     ]
    }
   ],
   "source": [
    "fruit_list = ['banana', 'orange', 'kiwi', 'apple', 'melon']\n",
    " \n",
    "for i in range (0, len(fruit_list)):\n",
    "    print('{} : 문자열의 길이 {}'.format(fruit_list[i], len(fruit_list[i])))\n",
    " \n"
   ]
  },
  {
   "cell_type": "markdown",
   "id": "859fa2f0-0eb2-4d3e-9514-1eceeae8d085",
   "metadata": {},
   "source": [
    "### 7-8"
   ]
  },
  {
   "cell_type": "code",
   "execution_count": 24,
   "id": "b2e6e811-bb3c-4db1-9040-68d4d495ec9e",
   "metadata": {},
   "outputs": [
    {
     "name": "stdin",
     "output_type": "stream",
     "text": [
      "n을 입력하시오 :  5\n"
     ]
    },
    {
     "name": "stdout",
     "output_type": "stream",
     "text": [
      "  1  2  3  4  5\n",
      " 10  9  8  7  6\n",
      " 11 12 13 14 15\n",
      " 20 19 18 17 16\n",
      " 21 22 23 24 25\n"
     ]
    }
   ],
   "source": [
    "A = int(input(\"n을 입력하시오 : \"))\n",
    "D = [x for x in range(1, A * A + 1)]\n",
    "S = \"\"\n",
    " \n",
    "for i in range(0, A):\n",
    "    if i % 2 == 0:\n",
    "        S = D[(i*A) : (i*A) + A]\n",
    "        for t in range (0, len(S)):\n",
    "            print('{0:3d}'.format(S[t]), end = \"\")\n",
    "    else:\n",
    "        S = D[(i*A) + (A-1) : (i * A) - 1 : -1]\n",
    "        for t in range (0, len(S)):\n",
    "            print('{0:3d}'.format(S[t]), end = \"\")\n",
    "    print(\"\")"
   ]
  },
  {
   "cell_type": "code",
   "execution_count": 10,
   "id": "176faf77-cca6-4433-afb6-047e33151739",
   "metadata": {},
   "outputs": [
    {
     "name": "stdin",
     "output_type": "stream",
     "text": [
      "n을 입력하세요 5\n"
     ]
    },
    {
     "name": "stdout",
     "output_type": "stream",
     "text": [
      "  1   2   3   4   5 \n",
      " 10   9   8   7   6 \n",
      " 11  12  13  14  15 \n",
      " 20  19  18  17  16 \n",
      " 21  22  23  24  25 \n"
     ]
    }
   ],
   "source": [
    "def list_print(nums):\n",
    "    for i in range(len(nums)):\n",
    "        print('{:3d}'.format(nums[i]), end=' ')\n",
    "\n",
    "n = int(input('n을 입력하세요'))      \n",
    "\n",
    "numbers = range(1, n*n+1)\n",
    "\n",
    "count = 0\n",
    "for i in range(0, n*n , n):\n",
    "    if count % 2 == 0:\n",
    "        list_print(numbers[i:i+n])\n",
    "    else:\n",
    "        list_print(numbers[i:i+n][::-1])\n",
    "    print()\n",
    "    count += 1"
   ]
  },
  {
   "cell_type": "markdown",
   "id": "9390a15f-6eae-4517-999d-42c2ae2a04ba",
   "metadata": {},
   "source": [
    "### 7-9"
   ]
  },
  {
   "cell_type": "code",
   "execution_count": 17,
   "id": "88ec860d-b0cb-47e0-8f30-95d05dca74c8",
   "metadata": {},
   "outputs": [
    {
     "name": "stdin",
     "output_type": "stream",
     "text": [
      "A =  commu\n",
      "B =  mummy\n"
     ]
    },
    {
     "name": "stdout",
     "output_type": "stream",
     "text": [
      "C = commummy\n"
     ]
    }
   ],
   "source": [
    "A = input('A = ')\n",
    "B = input('B = ')\n",
    " \n",
    "def overlap(A, B):\n",
    " \n",
    "    for i in range(0, len(A)): \n",
    "        last = A[i : len(A)]\n",
    "        first = B[: len(A) - i] \n",
    "        if last == first:\n",
    "            C = A[0 : len(A)] + B[len(A) - i : len(B)]\n",
    "            return C\n",
    " \n",
    "        elif i == len(A)-1:\n",
    "            C = A + B \n",
    "            return C\n",
    "        \n",
    "print('C =', overlap(A, B))"
   ]
  },
  {
   "cell_type": "code",
   "execution_count": 15,
   "id": "3410ebaa-897d-4c16-bb40-bdc29ad7d5a6",
   "metadata": {},
   "outputs": [
    {
     "name": "stdin",
     "output_type": "stream",
     "text": [
      "strA =  commu\n",
      "strB =  mummy\n"
     ]
    },
    {
     "name": "stdout",
     "output_type": "stream",
     "text": [
      "commummy\n"
     ]
    }
   ],
   "source": [
    "strA = input('strA = ')\n",
    "strB = input('strB = ')\n",
    "\n",
    "def overlap(strA, strB):\n",
    "    n = min(len(strA), len(strB))\n",
    "    commbined = strA + strB\n",
    "    for i in range(n+1):\n",
    "        if strA[-i:] == strB[:i]:\n",
    "            commbined = strA+strB[i:]\n",
    "\n",
    "    return commbined\n",
    "\n",
    "print(overlap(strA, strB))"
   ]
  },
  {
   "cell_type": "code",
   "execution_count": null,
   "id": "cd7f6977-5156-43c2-a3b0-cc39ce315b69",
   "metadata": {},
   "outputs": [],
   "source": []
  }
 ],
 "metadata": {
  "kernelspec": {
   "display_name": "Python 3 (ipykernel)",
   "language": "python",
   "name": "python3"
  },
  "language_info": {
   "codemirror_mode": {
    "name": "ipython",
    "version": 3
   },
   "file_extension": ".py",
   "mimetype": "text/x-python",
   "name": "python",
   "nbconvert_exporter": "python",
   "pygments_lexer": "ipython3",
   "version": "3.9.7"
  }
 },
 "nbformat": 4,
 "nbformat_minor": 5
}
