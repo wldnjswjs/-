{
 "cells": [
  {
   "cell_type": "markdown",
   "id": "7b2d8c50-95a6-4833-92db-a3a1f499bd88",
   "metadata": {},
   "source": [
    "# 중요사항 정리\n",
    "## 반복문\n",
    "사용이유: 반복적으로 수행하는 번거로운 작업을 손쉽게 해결   \n",
    "반복문을 사용할때는 블록(간격)을 잘 맞춰서 사용하여야 한다.\n",
    "## for 문\n",
    "for 변수 in 범위:   \n",
    "    실행문   \n",
    "횟수를 정해 놓고 반복시킬 때 사용한다. for - in 다음에는 리스트나 문자열도 올 수 있다.   \n",
    "range()함수: range(start, stop. step), start에서 시작하여 (stop-1)까지 step간격으로 정수들이 생성\n",
    "## while 문\n",
    "변수 = 초기값   \n",
    "while 조건문   \n",
    "    실행문\n",
    "    증가식(ex. i += 1)   \n",
    "while 문을 사용할 때는 특히 무한루프에 빠지지 않도록 주의한다.   \n",
    "count를 사용하여 일정한 횟수만을 반복할 수 있다.   \n",
    "조건에 True를 사용하면 항상 참이라 무한반복된다. 그래서 if문장을 사용하여 루프를 빠져나온다. break는 루프를 강제적으로 빠져나올 때 사용한다.   \n",
    "continue를 만날 경우 아래 문장을 실행하지 않고 다시 반복문으로 올라가 반복문을 실행한다.\n",
    "## 포캐팅\n",
    "format()메소드는 문자열을 출력할 때 문자열을 가지런히 출력할 수 있다.   \n",
    "{}는 플레이스홀더로 format() 메소드의 인자로 들어오는 값이 출력되는 위치를 지정한다.\n",
    "f는 부동 소수점으로 소수점 아래 자리수를 결정한다. d는 정수출력시 폭을 결정한다.(ex. 0:.2f, 0:2d)"
   ]
  },
  {
   "cell_type": "markdown",
   "id": "04a97133-42ca-45b6-a191-6ac893a3eaaf",
   "metadata": {},
   "source": [
    "# 자기 점검"
   ]
  },
  {
   "cell_type": "markdown",
   "id": "553cf9db-90af-4154-8672-74e80f21566e",
   "metadata": {},
   "source": [
    "# 심화문제 풀기\n",
    "### 5-1"
   ]
  },
  {
   "cell_type": "code",
   "execution_count": 1,
   "id": "d9c83170-8596-458b-9d50-1d3eeb2a31fa",
   "metadata": {},
   "outputs": [
    {
     "name": "stdout",
     "output_type": "stream",
     "text": [
      "1 3 5 7 9 11 13 15 17 19 21 23 25 27 29 31 33 35 37 39 41 43 45 47 49 51 53 55 57 59 61 63 65 67 69 71 73 75 77 79 81 83 85 87 89 91 93 95 97 99 "
     ]
    }
   ],
   "source": [
    "for i in range(1,101):\n",
    "    if i%2 == 1:\n",
    "        print(i, end = ' ')"
   ]
  },
  {
   "cell_type": "code",
   "execution_count": 2,
   "id": "b575992e-97d6-4254-b16c-447f92ba67c1",
   "metadata": {},
   "outputs": [
    {
     "name": "stdout",
     "output_type": "stream",
     "text": [
      "1 3 5 7 9 11 13 15 17 19 21 23 25 27 29 31 33 35 37 39 41 43 45 47 49 51 53 55 57 59 61 63 65 67 69 71 73 75 77 79 81 83 85 87 89 91 93 95 97 99 "
     ]
    }
   ],
   "source": [
    "i = 1\n",
    "while i<101:\n",
    "    if i%2 == 1:\n",
    "        print(i, end = ' ')\n",
    "    i +=1"
   ]
  },
  {
   "cell_type": "code",
   "execution_count": 6,
   "id": "409ecd94-7655-4a3a-a509-a622c5b825eb",
   "metadata": {},
   "outputs": [
    {
     "name": "stdout",
     "output_type": "stream",
     "text": [
      "2 4 6 8 10 12 14 16 18 20 22 24 26 28 30 32 34 36 38 40 42 44 46 48 50 52 54 56 58 60 62 64 66 68 70 72 74 76 78 80 82 84 86 88 90 92 94 96 98 100 "
     ]
    }
   ],
   "source": [
    "for i in range(1,101):\n",
    "    if i%2 == 0:\n",
    "        print(i, end = ' ')"
   ]
  },
  {
   "cell_type": "code",
   "execution_count": 7,
   "id": "66fbf321-b839-43eb-8569-4668ce1ff870",
   "metadata": {},
   "outputs": [
    {
     "name": "stdout",
     "output_type": "stream",
     "text": [
      "2 4 6 8 10 12 14 16 18 20 22 24 26 28 30 32 34 36 38 40 42 44 46 48 50 52 54 56 58 60 62 64 66 68 70 72 74 76 78 80 82 84 86 88 90 92 94 96 98 100 "
     ]
    }
   ],
   "source": [
    "i = 1\n",
    "while i<101:\n",
    "    if i%2 == 0:\n",
    "        print(i, end = ' ')\n",
    "    i +=1"
   ]
  },
  {
   "cell_type": "markdown",
   "id": "a62533b8-7abe-4a38-8904-58d55360e2bb",
   "metadata": {},
   "source": [
    "### 5-2"
   ]
  },
  {
   "cell_type": "code",
   "execution_count": 12,
   "id": "607fd885-06ec-4042-bab0-5071cea2631e",
   "metadata": {},
   "outputs": [
    {
     "name": "stdout",
     "output_type": "stream",
     "text": [
      "1에서 100까지의 수 중에서 홀수의 합:  2500\n"
     ]
    }
   ],
   "source": [
    "total = 0\n",
    "for i in range(1,101):\n",
    "    if i%2 == 1:\n",
    "        total += i\n",
    "print('1에서 100까지의 수 중에서 홀수의 합: ', total)"
   ]
  },
  {
   "cell_type": "code",
   "execution_count": null,
   "id": "c036234a-72f4-4bef-a208-8ad502dc4bdc",
   "metadata": {},
   "outputs": [],
   "source": [
    "total = 0\n",
    "i = 1\n",
    "while i<101:\n",
    "    if i%2 == 1:\n",
    "        total = total + i\n",
    "print('1에서 100까지의 수 중에서 홀수의 합: ', total)"
   ]
  },
  {
   "cell_type": "code",
   "execution_count": 1,
   "id": "f33d6861-7c5b-4906-8fd1-41ee610c654e",
   "metadata": {},
   "outputs": [
    {
     "name": "stdout",
     "output_type": "stream",
     "text": [
      "1에서 100까지의 수 중에서 짝수의 합:  2550\n"
     ]
    }
   ],
   "source": [
    "total = 0\n",
    "for i in range(1,101):\n",
    "    if i%2 == 0:\n",
    "        total += i\n",
    "print('1에서 100까지의 수 중에서 짝수의 합: ', total)"
   ]
  },
  {
   "cell_type": "code",
   "execution_count": null,
   "id": "71a96ed8-c0c2-4c34-812e-dec1ddbf5828",
   "metadata": {},
   "outputs": [],
   "source": [
    "total = 0\n",
    "i = 1\n",
    "while i < 101:\n",
    "    if i%2 == 0:\n",
    "        total += i\n",
    "\n",
    "print('1에서 100까지의 수 중에서 짝수의 합: ', total)"
   ]
  },
  {
   "cell_type": "code",
   "execution_count": null,
   "id": "3c4fd646-6a06-4289-a2d9-2620f6ac6c8d",
   "metadata": {},
   "outputs": [],
   "source": [
    "start = int(input('시작 정수를 입력하세요: '))\n",
    "end = int(input('끝 정수를 입력하세요: '))\n",
    "for i in range(start, end):\n",
    "    total += i\n",
    "print('%s에서 %s까지 정수의 합 :' % (start, end))"
   ]
  },
  {
   "cell_type": "code",
   "execution_count": null,
   "id": "63cda788-4c35-4917-9891-0ca3250f5e94",
   "metadata": {},
   "outputs": [],
   "source": []
  }
 ],
 "metadata": {
  "kernelspec": {
   "display_name": "Python 3 (ipykernel)",
   "language": "python",
   "name": "python3"
  },
  "language_info": {
   "codemirror_mode": {
    "name": "ipython",
    "version": 3
   },
   "file_extension": ".py",
   "mimetype": "text/x-python",
   "name": "python",
   "nbconvert_exporter": "python",
   "pygments_lexer": "ipython3",
   "version": "3.9.7"
  }
 },
 "nbformat": 4,
 "nbformat_minor": 5
}
