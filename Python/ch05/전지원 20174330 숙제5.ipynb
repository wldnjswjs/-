{
 "cells": [
  {
   "cell_type": "markdown",
   "id": "7b2d8c50-95a6-4833-92db-a3a1f499bd88",
   "metadata": {},
   "source": [
    "# 중요사항 정리\n",
    "## 반복문\n",
    "사용이유: 반복적으로 수행하는 번거로운 작업을 손쉽게 해결   \n",
    "반복문을 사용할때는 블록(간격)을 잘 맞춰서 사용하여야 한다.\n",
    "## for 문\n",
    "for 변수 in 범위:   \n",
    "    실행문   \n",
    "횟수를 정해 놓고 반복시킬 때 사용한다. for - in 다음에는 리스트나 문자열도 올 수 있다.   \n",
    "range()함수: range(start, stop. step), start에서 시작하여 (stop-1)까지 step간격으로 정수들이 생성\n",
    "## while 문\n",
    "변수 = 초기값   \n",
    "while 조건문   \n",
    "    실행문\n",
    "    증가식(ex. i += 1)   \n",
    "while 문을 사용할 때는 특히 무한루프에 빠지지 않도록 주의한다.   \n",
    "count를 사용하여 일정한 횟수만을 반복할 수 있다.   \n",
    "조건에 True를 사용하면 항상 참이라 무한반복된다. 그래서 if문장을 사용하여 루프를 빠져나온다. break는 루프를 강제적으로 빠져나올 때 사용한다.   \n",
    "continue를 만날 경우 아래 문장을 실행하지 않고 다시 반복문으로 올라가 반복문을 실행한다.\n",
    "## 포캐팅\n",
    "format()메소드는 문자열을 출력할 때 문자열을 가지런히 출력할 수 있다.   \n",
    "{}는 플레이스홀더로 format() 메소드의 인자로 들어오는 값이 출력되는 위치를 지정한다.\n",
    "f는 부동 소수점으로 소수점 아래 자리수를 결정한다. d는 정수출력시 폭을 결정한다.(ex. 0:.2f, 0:2d)"
   ]
  },
  {
   "cell_type": "markdown",
   "id": "04a97133-42ca-45b6-a191-6ac893a3eaaf",
   "metadata": {},
   "source": [
    "# 자기 점검\n",
    "5-4 문제를 풀 때 별 표시가 한줄에 하나씩 생기거나 5개씩 생기는데 어떻게 풀어야할지 모르겠습니다.   \n",
    "5-7 암스트롱 문제 푸는 방법을 모르겠습니다.   \n",
    "5-9 문제를 푸는데 가장 작은 정수를 구하는 식을 모르겠습니다."
   ]
  },
  {
   "cell_type": "markdown",
   "id": "553cf9db-90af-4154-8672-74e80f21566e",
   "metadata": {},
   "source": [
    "# 심화문제 풀기\n",
    "### 5-1"
   ]
  },
  {
   "cell_type": "code",
   "execution_count": 1,
   "id": "d9c83170-8596-458b-9d50-1d3eeb2a31fa",
   "metadata": {},
   "outputs": [
    {
     "name": "stdout",
     "output_type": "stream",
     "text": [
      "1 3 5 7 9 11 13 15 17 19 21 23 25 27 29 31 33 35 37 39 41 43 45 47 49 51 53 55 57 59 61 63 65 67 69 71 73 75 77 79 81 83 85 87 89 91 93 95 97 99 "
     ]
    }
   ],
   "source": [
    "for i in range(1,101):\n",
    "    if i%2 == 1:\n",
    "        print(i, end = ' ')"
   ]
  },
  {
   "cell_type": "code",
   "execution_count": 2,
   "id": "b575992e-97d6-4254-b16c-447f92ba67c1",
   "metadata": {},
   "outputs": [
    {
     "name": "stdout",
     "output_type": "stream",
     "text": [
      "1 3 5 7 9 11 13 15 17 19 21 23 25 27 29 31 33 35 37 39 41 43 45 47 49 51 53 55 57 59 61 63 65 67 69 71 73 75 77 79 81 83 85 87 89 91 93 95 97 99 "
     ]
    }
   ],
   "source": [
    "i = 1\n",
    "while i<101:\n",
    "    if i%2 == 1:\n",
    "        print(i, end = ' ')\n",
    "    i +=1"
   ]
  },
  {
   "cell_type": "code",
   "execution_count": 6,
   "id": "409ecd94-7655-4a3a-a509-a622c5b825eb",
   "metadata": {},
   "outputs": [
    {
     "name": "stdout",
     "output_type": "stream",
     "text": [
      "2 4 6 8 10 12 14 16 18 20 22 24 26 28 30 32 34 36 38 40 42 44 46 48 50 52 54 56 58 60 62 64 66 68 70 72 74 76 78 80 82 84 86 88 90 92 94 96 98 100 "
     ]
    }
   ],
   "source": [
    "for i in range(1,101):\n",
    "    if i%2 == 0:\n",
    "        print(i, end = ' ')"
   ]
  },
  {
   "cell_type": "code",
   "execution_count": 7,
   "id": "66fbf321-b839-43eb-8569-4668ce1ff870",
   "metadata": {},
   "outputs": [
    {
     "name": "stdout",
     "output_type": "stream",
     "text": [
      "2 4 6 8 10 12 14 16 18 20 22 24 26 28 30 32 34 36 38 40 42 44 46 48 50 52 54 56 58 60 62 64 66 68 70 72 74 76 78 80 82 84 86 88 90 92 94 96 98 100 "
     ]
    }
   ],
   "source": [
    "i = 1\n",
    "while i<101:\n",
    "    if i%2 == 0:\n",
    "        print(i, end = ' ')\n",
    "    i +=1"
   ]
  },
  {
   "cell_type": "markdown",
   "id": "a62533b8-7abe-4a38-8904-58d55360e2bb",
   "metadata": {},
   "source": [
    "### 5-2"
   ]
  },
  {
   "cell_type": "code",
   "execution_count": 6,
   "id": "607fd885-06ec-4042-bab0-5071cea2631e",
   "metadata": {},
   "outputs": [
    {
     "name": "stdout",
     "output_type": "stream",
     "text": [
      "1에서 100까지의 수 중에서 홀수의 합:  2500\n"
     ]
    }
   ],
   "source": [
    "total = 0\n",
    "for i in range(1,101):\n",
    "    if i%2 == 1:\n",
    "        total += i\n",
    "print('1에서 100까지의 수 중에서 홀수의 합: ', total)"
   ]
  },
  {
   "cell_type": "code",
   "execution_count": 2,
   "id": "c036234a-72f4-4bef-a208-8ad502dc4bdc",
   "metadata": {},
   "outputs": [
    {
     "name": "stdout",
     "output_type": "stream",
     "text": [
      "1에서 100까지의 수 중에서 홀수의 합:  2500\n"
     ]
    }
   ],
   "source": [
    "num = 0\n",
    "i = 1\n",
    "while i<101:\n",
    "    if i%2 == 1:\n",
    "        num = num + i\n",
    "    i +=1\n",
    "print('1에서 100까지의 수 중에서 홀수의 합: ', num)"
   ]
  },
  {
   "cell_type": "code",
   "execution_count": 1,
   "id": "f33d6861-7c5b-4906-8fd1-41ee610c654e",
   "metadata": {},
   "outputs": [
    {
     "name": "stdout",
     "output_type": "stream",
     "text": [
      "1에서 100까지의 수 중에서 짝수의 합:  2550\n"
     ]
    }
   ],
   "source": [
    "total = 0\n",
    "for i in range(1,101):\n",
    "    if i%2 == 0:\n",
    "        total += i\n",
    "print('1에서 100까지의 수 중에서 짝수의 합: ', total)"
   ]
  },
  {
   "cell_type": "code",
   "execution_count": 3,
   "id": "71a96ed8-c0c2-4c34-812e-dec1ddbf5828",
   "metadata": {},
   "outputs": [
    {
     "name": "stdout",
     "output_type": "stream",
     "text": [
      "1에서 100까지의 수 중에서 짝수의 합:  2550\n"
     ]
    }
   ],
   "source": [
    "num = 0\n",
    "i = 1\n",
    "while i<101:\n",
    "    if i%2 == 0:\n",
    "        num = num + i\n",
    "    i +=1\n",
    "print('1에서 100까지의 수 중에서 짝수의 합: ', num)"
   ]
  },
  {
   "cell_type": "code",
   "execution_count": 4,
   "id": "3c4fd646-6a06-4289-a2d9-2620f6ac6c8d",
   "metadata": {},
   "outputs": [
    {
     "name": "stdin",
     "output_type": "stream",
     "text": [
      "시작 정수를 입력하세요:  2\n",
      "끝 정수를 입력하세요:  6\n"
     ]
    },
    {
     "name": "stdout",
     "output_type": "stream",
     "text": [
      "2에서 6까지 정수의 합 : 20\n"
     ]
    }
   ],
   "source": [
    "total = 0\n",
    "start = int(input('시작 정수를 입력하세요: '))\n",
    "end = int(input('끝 정수를 입력하세요: '))\n",
    "for i in range(start, end+1):\n",
    "    total += i\n",
    "print('%s에서 %s까지 정수의 합 : %s' % (start, end, total))"
   ]
  },
  {
   "cell_type": "markdown",
   "id": "c8773029-564f-4fb2-a3e7-7dc5818d070c",
   "metadata": {},
   "source": [
    "### 5-3"
   ]
  },
  {
   "cell_type": "code",
   "execution_count": 1,
   "id": "cba7612a-187c-420f-b03c-81a4757c2a89",
   "metadata": {},
   "outputs": [
    {
     "name": "stdout",
     "output_type": "stream",
     "text": [
      "맛나 식당에 오신것을 환영합니다. 메뉴는 다음과 같습니다.\n",
      "1)햄버거\n",
      "2)치킨\n",
      "3)피자\n"
     ]
    },
    {
     "name": "stdin",
     "output_type": "stream",
     "text": [
      "1에서 3까지의 메뉴를 선택하세요 : 5\n",
      "메뉴를 다시 입력하세요:  6\n",
      "메뉴를 다시 입력하세요:  0\n",
      "메뉴를 다시 입력하세요:  2\n"
     ]
    },
    {
     "name": "stdout",
     "output_type": "stream",
     "text": [
      "치킨을 선택하였습니다.\n"
     ]
    }
   ],
   "source": [
    "print('맛나 식당에 오신것을 환영합니다. 메뉴는 다음과 같습니다.\\n1)햄버거\\n2)치킨\\n3)피자')\n",
    "n = input('1에서 3까지의 메뉴를 선택하세요 :')\n",
    "while True:\n",
    "    if n == '1':\n",
    "        print('햄버거를 선택하였습니다.')\n",
    "        break\n",
    "    elif n == '2':\n",
    "        print('치킨을 선택하였습니다.')\n",
    "        break\n",
    "    elif n == '3':\n",
    "        print('피자를 선택하였습니다.')\n",
    "        break\n",
    "    else:\n",
    "        n = input('메뉴를 다시 입력하세요: ')"
   ]
  },
  {
   "cell_type": "code",
   "execution_count": 1,
   "id": "2d56c54f-798c-4b3e-8234-12dc46b0f6ba",
   "metadata": {},
   "outputs": [
    {
     "name": "stdout",
     "output_type": "stream",
     "text": [
      "맛나 식당에 오신 것을 환영합니다. 메뉴는 다음과 같습니다.\n",
      "1) 햄버거\n",
      "2) 치킨 \n",
      "3) 피자\n"
     ]
    },
    {
     "name": "stdin",
     "output_type": "stream",
     "text": [
      "1에서 3까지의 메뉴를 선택하세요 : 5\n",
      "메뉴를 다시 입력하세요: 6\n",
      "메뉴를 다시 입력하세요: 0\n",
      "메뉴를 다시 입력하세요: 2\n"
     ]
    },
    {
     "name": "stdout",
     "output_type": "stream",
     "text": [
      "치킨를 선택하셨습니다.\n"
     ]
    }
   ],
   "source": [
    "print(\"맛나 식당에 오신 것을 환영합니다. 메뉴는 다음과 같습니다.\")\n",
    "print(\"1) 햄버거\\n2) 치킨 \\n3) 피자\")\n",
    "\n",
    "menu_list = [\"햄버거\", \"치킨\", \"피자\"]\n",
    "menu_id = int(input(\"1에서 3까지의 메뉴를 선택하세요 :\"))\n",
    "\n",
    "while(True): \n",
    "    if menu_id in [1, 2, 3]:\n",
    "        break\n",
    "    else:\n",
    "        menu_id = int(input(\"메뉴를 다시 입력하세요:\"))\n",
    "\n",
    "print('{}를 선택하셨습니다.'.format(menu_list[menu_id-1]))"
   ]
  },
  {
   "cell_type": "markdown",
   "id": "4be4d63f-eb2d-4a11-8a1f-0ea26f228b67",
   "metadata": {},
   "source": [
    "### 5-4"
   ]
  },
  {
   "cell_type": "code",
   "execution_count": 2,
   "id": "5d417ba8-61dd-4dca-bed9-3bf0c82ef591",
   "metadata": {},
   "outputs": [
    {
     "name": "stdin",
     "output_type": "stream",
     "text": [
      "숫자를 입력하세요:  5\n"
     ]
    },
    {
     "name": "stdout",
     "output_type": "stream",
     "text": [
      "    *\n",
      "   **\n",
      "  ***\n",
      " ****\n",
      "*****\n"
     ]
    }
   ],
   "source": [
    "num = int(input('숫자를 입력하세요: '))\n",
    "for i in range(1, num+1):\n",
    "    print(' '*(num-i) + '*'*i)\n"
   ]
  },
  {
   "cell_type": "markdown",
   "id": "2eec95ca-c43b-46d4-91a0-92ede3ce8361",
   "metadata": {},
   "source": [
    "### 5-5"
   ]
  },
  {
   "cell_type": "code",
   "execution_count": 27,
   "id": "6823c802-f858-4758-be85-0349ae01d794",
   "metadata": {},
   "outputs": [
    {
     "name": "stdout",
     "output_type": "stream",
     "text": [
      "day:    1 달팽이의 위치:    7 미터\n",
      "day:    2 달팽이의 위치:    9 미터\n",
      "day:    3 달팽이의 위치:   11 미터\n",
      "day:    4 달팽이의 위치:   13 미터\n",
      "day:    5 달팽이의 위치:   15 미터\n",
      "day:    6 달팽이의 위치:   17 미터\n",
      "day:    7 달팽이의 위치:   19 미터\n",
      "day:    8 달팽이의 위치:   21 미터\n",
      "day:    9 달팽이의 위치:   23 미터\n",
      "day:   10 달팽이의 위치:   25 미터\n",
      "day:   11 달팽이의 위치:   27 미터\n",
      "day:   12 달팽이의 위치:   29 미터\n",
      "day:   13 달팽이의 위치:   31 미터\n",
      "축하합니다. 우물을 탈출하였습니다.\n",
      "우물을 탈출하는데 걸린 날은 13 일 입니다.\n"
     ]
    }
   ],
   "source": [
    "day = 0\n",
    "pos = 0\n",
    "\n",
    "while pos <= 30:\n",
    "    day +=1\n",
    "    pos += 7\n",
    "    print('day: ', '{0:3d}'.format(day), '달팽이의 위치: ', '{0:3d}'.format(pos), '미터')\n",
    "    \n",
    "    if pos <= 30:\n",
    "        pos = pos - 5\n",
    "    elif pos >= 30:\n",
    "        print('축하합니다. 우물을 탈출하였습니다.')\n",
    "        print('우물을 탈출하는데 걸린 날은', day, '일 입니다.')"
   ]
  },
  {
   "cell_type": "code",
   "execution_count": 3,
   "id": "13d8ec8e-f258-4f9d-9f84-a56198a2a0d6",
   "metadata": {},
   "outputs": [
    {
     "name": "stdout",
     "output_type": "stream",
     "text": [
      "day:   1 달팽이 위치:   7m\n",
      "day:   2 달팽이 위치:   9m\n",
      "day:   3 달팽이 위치:  11m\n",
      "day:   4 달팽이 위치:  13m\n",
      "day:   5 달팽이 위치:  15m\n",
      "day:   6 달팽이 위치:  17m\n",
      "day:   7 달팽이 위치:  19m\n",
      "day:   8 달팽이 위치:  21m\n",
      "day:   9 달팽이 위치:  23m\n",
      "day:  10 달팽이 위치:  25m\n",
      "day:  11 달팽이 위치:  27m\n",
      "day:  12 달팽이 위치:  29m\n",
      "day:  13 달팽이 위치:  31m\n",
      "축하합니다. 우물을 탈출하였습니다.\n",
      "우물을 탈출하는데 걸린 날은 13입니다.\n"
     ]
    }
   ],
   "source": [
    "position = 0\n",
    "day = 1\n",
    "\n",
    "while (True):\n",
    "    # for day, climbing up 7m...\n",
    "    position += 7\n",
    "    print(\"day: {:3d} 달팽이 위치: {:3d}m\".format(day, position))\n",
    "    # check the position of snail...\n",
    "    if position > 30:\n",
    "        break\n",
    "    day += 1\n",
    "    # during night, slide down 5m\n",
    "    position -= 5\n",
    "    \n",
    "print(\"축하합니다. 우물을 탈출하였습니다.\")\n",
    "print(\"우물을 탈출하는데 걸린 날은 {}입니다.\".format(day))\n"
   ]
  },
  {
   "cell_type": "markdown",
   "id": "0e1180ab-f723-4b42-a298-fcf0aa3ec493",
   "metadata": {},
   "source": [
    "### 5-6"
   ]
  },
  {
   "cell_type": "code",
   "execution_count": 2,
   "id": "e9045f15-aa61-49a8-ad98-006cde12ab4f",
   "metadata": {},
   "outputs": [
    {
     "name": "stdin",
     "output_type": "stream",
     "text": [
      "충전 또는 사용한 연료를 +/- 기호와 함께 입력하시오:  +60\n"
     ]
    },
    {
     "name": "stdout",
     "output_type": "stream",
     "text": [
      "현재 탱크양은 560 입니다.\n"
     ]
    },
    {
     "name": "stdin",
     "output_type": "stream",
     "text": [
      "충전 또는 사용한 연료를 +/- 기호와 함께 입력하시오:  -300\n"
     ]
    },
    {
     "name": "stdout",
     "output_type": "stream",
     "text": [
      "현재 탱크양은 260 입니다.\n"
     ]
    },
    {
     "name": "stdin",
     "output_type": "stream",
     "text": [
      "충전 또는 사용한 연료를 +/- 기호와 함께 입력하시오:  -220\n"
     ]
    },
    {
     "name": "stdout",
     "output_type": "stream",
     "text": [
      "현재 탱크양은 40 입니다.\n",
      "경고 : 연료가 10% 미만이니 충전하세요!\n"
     ]
    }
   ],
   "source": [
    "oil = 500\n",
    "\n",
    "while True:\n",
    "    n = int(input('충전 또는 사용한 연료를 +/- 기호와 함께 입력하시오: '))\n",
    "    oil = oil + n\n",
    "    print('현재 탱크양은 %s 입니다.' % (oil))\n",
    "    if oil <= 50:\n",
    "        print('경고 : 연료가 10% 미만이니 충전하세요!')\n",
    "        break "
   ]
  },
  {
   "cell_type": "code",
   "execution_count": 4,
   "id": "a1af909f-13fa-424f-add2-f5ef733f7852",
   "metadata": {},
   "outputs": [
    {
     "name": "stdin",
     "output_type": "stream",
     "text": [
      "충전 또는 사용한 연료를 +/- 기호와 함께 입력하시오 : +60\n"
     ]
    },
    {
     "name": "stdout",
     "output_type": "stream",
     "text": [
      "현재 남은 연료의 양은 560입니다\n"
     ]
    },
    {
     "name": "stdin",
     "output_type": "stream",
     "text": [
      "충전 또는 사용한 연료를 +/- 기호와 함께 입력하시오 : -300\n"
     ]
    },
    {
     "name": "stdout",
     "output_type": "stream",
     "text": [
      "현재 남은 연료의 양은 260입니다\n"
     ]
    },
    {
     "name": "stdin",
     "output_type": "stream",
     "text": [
      "충전 또는 사용한 연료를 +/- 기호와 함께 입력하시오 : -220\n"
     ]
    },
    {
     "name": "stdout",
     "output_type": "stream",
     "text": [
      "현재 남은 연료의 양은 40입니다\n",
      "연료가 10% 미만이니 충전하세요\n"
     ]
    }
   ],
   "source": [
    "full = 500\n",
    "current = 500\n",
    "\n",
    "while(True):\n",
    "    use_or_charge = int(input('충전 또는 사용한 연료를 +/- 기호와 함께 입력하시오 :'))\n",
    "    current += use_or_charge\n",
    "    print(\"현재 남은 연료의 양은 {}입니다\".format(current))\n",
    "    if current < full * 0.1:\n",
    "        print(\"연료가 10% 미만이니 충전하세요\")\n",
    "        break\n"
   ]
  },
  {
   "cell_type": "markdown",
   "id": "617ede89-b6d3-49eb-b56f-5352d0afd323",
   "metadata": {},
   "source": [
    "### 5-7"
   ]
  },
  {
   "cell_type": "code",
   "execution_count": 9,
   "id": "bd516612-cc9a-4279-9d7f-1a3ea8b7a62e",
   "metadata": {},
   "outputs": [
    {
     "name": "stdout",
     "output_type": "stream",
     "text": [
      "세 자리의 암스트롱 수:  153 370 371 407 \n",
      "세 자리의 암스트롱 수:  153 370 371 407 "
     ]
    }
   ],
   "source": [
    "print('세 자리의 암스트롱 수: ', end=' ')\n",
    "\n",
    "for num in range(100, 1000):\n",
    "    digit_100 = num // 100\n",
    "    digit_10 = (num - digit_100 * 100) // 10\n",
    "    digit_1 = num % 10\n",
    "    amstrong = digit_100 ** 3 + digit_10 ** 3 + digit_1 ** 3\n",
    "    if num == amstrong:\n",
    "        print(num, end=' ')\n",
    "        \n",
    "print('\\n세 자리의 암스트롱 수: ', end=' ')\n",
    "\n",
    "for num in range(100, 1000):\n",
    "    h, t, o = int(str(num)[0]), int(str(num)[1]), int(str(num)[2])\n",
    "    amstrong = h ** 3 + t ** 3 + o ** 3\n",
    "    if num == amstrong:\n",
    "        print(num, end=' ')"
   ]
  },
  {
   "cell_type": "markdown",
   "id": "c01b19b0-4445-4251-a5a0-c53168fd7184",
   "metadata": {},
   "source": [
    "### 5-8"
   ]
  },
  {
   "cell_type": "code",
   "execution_count": 1,
   "id": "aae5b143-c796-4708-98dd-5a2610df0121",
   "metadata": {},
   "outputs": [
    {
     "name": "stdin",
     "output_type": "stream",
     "text": [
      "정수를 입력하시오 : 17\n"
     ]
    },
    {
     "name": "stdout",
     "output_type": "stream",
     "text": [
      "17 은(는) 거꾸로 정수가 아닙니다.\n"
     ]
    },
    {
     "name": "stdin",
     "output_type": "stream",
     "text": [
      "정수를 입력하시오 : 154\n"
     ]
    },
    {
     "name": "stdout",
     "output_type": "stream",
     "text": [
      "154 은(는) 거꾸로 정수가 아닙니다.\n"
     ]
    },
    {
     "name": "stdin",
     "output_type": "stream",
     "text": [
      "정수를 입력하시오 : 155\n"
     ]
    },
    {
     "name": "stdout",
     "output_type": "stream",
     "text": [
      "155 은(는) 거꾸로 정수가 아닙니다.\n"
     ]
    },
    {
     "name": "stdin",
     "output_type": "stream",
     "text": [
      "정수를 입력하시오 : 424\n"
     ]
    },
    {
     "name": "stdout",
     "output_type": "stream",
     "text": [
      "424 은(는) 거꾸로 정수입니다.\n"
     ]
    },
    {
     "name": "stdin",
     "output_type": "stream",
     "text": [
      "정수를 입력하시오 : 5665\n"
     ]
    },
    {
     "name": "stdout",
     "output_type": "stream",
     "text": [
      "5665 은(는) 거꾸로 정수입니다.\n"
     ]
    },
    {
     "name": "stdin",
     "output_type": "stream",
     "text": [
      "정수를 입력하시오 : 1234\n"
     ]
    },
    {
     "name": "stdout",
     "output_type": "stream",
     "text": [
      "1234 은(는) 거꾸로 정수가 아닙니다.\n"
     ]
    },
    {
     "name": "stdin",
     "output_type": "stream",
     "text": [
      "정수를 입력하시오 : -99\n"
     ]
    },
    {
     "name": "stdout",
     "output_type": "stream",
     "text": [
      "프로그램을 종료합니다.\n"
     ]
    }
   ],
   "source": [
    "n1 = 0\n",
    "while True:\n",
    "    n1 = int(input('정수를 입력하시오 :'))\n",
    "    n = n1\n",
    "    sn = 0\n",
    "    \n",
    "    while n > 0:\n",
    "        sn = sn * 10 + n % 10\n",
    "        n = n // 10\n",
    "    \n",
    "    if n1 == sn:\n",
    "        print(n1, '은(는) 거꾸로 정수입니다.')\n",
    "    elif n1 == -99:\n",
    "        break\n",
    "    elif n1 != sn:\n",
    "        print(n1, '은(는) 거꾸로 정수가 아닙니다.')\n",
    "    \n",
    "print('프로그램을 종료합니다.')"
   ]
  },
  {
   "cell_type": "code",
   "execution_count": 11,
   "id": "63834fe1-dbe1-4953-98de-6462a15b30aa",
   "metadata": {},
   "outputs": [
    {
     "name": "stdin",
     "output_type": "stream",
     "text": [
      "정수를 입력하세요:  3443\n"
     ]
    },
    {
     "name": "stdout",
     "output_type": "stream",
     "text": [
      "3443는 거꾸로 정수입니다.\n"
     ]
    },
    {
     "name": "stdin",
     "output_type": "stream",
     "text": [
      "정수를 입력하세요:  324\n"
     ]
    },
    {
     "name": "stdout",
     "output_type": "stream",
     "text": [
      "324는 거꾸로 정수가 아닙니다.\n"
     ]
    },
    {
     "name": "stdin",
     "output_type": "stream",
     "text": [
      "정수를 입력하세요:  -99\n"
     ]
    },
    {
     "name": "stdout",
     "output_type": "stream",
     "text": [
      "프로그램을 종료합니다.\n"
     ]
    }
   ],
   "source": [
    "while True:\n",
    "    num = input('정수를 입력하세요: ')\n",
    "    if int(num) == -99: break\n",
    "    if num == num[::-1]:\n",
    "        print('{}는 거꾸로 정수입니다.'.format(num))\n",
    "    else:\n",
    "        print('{}는 거꾸로 정수가 아닙니다.'.format(num))\n",
    "print('프로그램을 종료합니다.')"
   ]
  },
  {
   "cell_type": "markdown",
   "id": "0d000f9b-7f2a-4487-806c-f50a8af581f0",
   "metadata": {},
   "source": [
    "### 5-9"
   ]
  },
  {
   "cell_type": "code",
   "execution_count": 1,
   "id": "9f392ddb-6ade-4b3b-8de4-6b580bacfeb5",
   "metadata": {},
   "outputs": [
    {
     "name": "stdin",
     "output_type": "stream",
     "text": [
      "정수를 입력하시오 : 48\n",
      "정수를 입력하시오 : 940\n",
      "정수를 입력하시오 : 5\n",
      "정수를 입력하시오 : 16\n",
      "정수를 입력하시오 : -99\n"
     ]
    },
    {
     "name": "stdout",
     "output_type": "stream",
     "text": [
      "4개의 유효한 정수중 가장 큰 정수는 940 이고, 가장 작은 정수는 5 입니다.\n"
     ]
    }
   ],
   "source": [
    "bn = -1000\n",
    "sn = 1000\n",
    "chance = 0\n",
    "while (True):\n",
    "    n1 = int(input('정수를 입력하시오 :'))\n",
    "    if n1 == -99:\n",
    "        break\n",
    "    chance += 1\n",
    "    if n1 > bn :\n",
    "        bn = n1\n",
    "    if n1 < sn:\n",
    "        sn = n1\n",
    "    \n",
    "    \n",
    "    \n",
    "print('%s개의 유효한 정수중 가장 큰 정수는 %s 이고, 가장 작은 정수는 %s 입니다.' % (chance,bn,sn))"
   ]
  },
  {
   "cell_type": "markdown",
   "id": "a5f161fc-506a-499d-8f08-0cdbc5debb32",
   "metadata": {},
   "source": [
    "### 5-10"
   ]
  },
  {
   "cell_type": "code",
   "execution_count": 1,
   "id": "9b8ef7e0-2daf-4577-adf8-f70cbe9141e8",
   "metadata": {},
   "outputs": [],
   "source": [
    "import random\n",
    "import turtle\n",
    "\n",
    "t = turtle.Turtle()\n",
    "t.shape('turtle')\n",
    "\n",
    "\n",
    "for i in range(1,31):\n",
    "    x = random.randint(0,1)\n",
    "    if x == 1:\n",
    "        t.right(90)\n",
    "        t.forward(50)\n",
    "    elif x == 0:\n",
    "        t.left(90)\n",
    "        t.forward(50)\n",
    "turtle.done()"
   ]
  },
  {
   "cell_type": "code",
   "execution_count": null,
   "id": "8daf5bee-eaf2-4dbb-9423-38754c2d69a0",
   "metadata": {},
   "outputs": [],
   "source": [
    "import turtle\n",
    "import random\n",
    "\n",
    "my_turtle = turtle.Turtle()\n",
    "my_turtle.shape('turtle')\n",
    "\n",
    "i = 0\n",
    "while (i<30):\n",
    "    direction = random.randrange(2)\n",
    "    if direction == 0:\n",
    "        my_turtle.left(90)\n",
    "        my_turtle.forward(50)\n",
    "    else:\n",
    "        my_turtle.right(90)\n",
    "        my_turtle.forward(50)\n",
    "\n",
    "turtle.done()\n"
   ]
  }
 ],
 "metadata": {
  "kernelspec": {
   "display_name": "Python 3 (ipykernel)",
   "language": "python",
   "name": "python3"
  },
  "language_info": {
   "codemirror_mode": {
    "name": "ipython",
    "version": 3
   },
   "file_extension": ".py",
   "mimetype": "text/x-python",
   "name": "python",
   "nbconvert_exporter": "python",
   "pygments_lexer": "ipython3",
   "version": "3.9.7"
  }
 },
 "nbformat": 4,
 "nbformat_minor": 5
}
