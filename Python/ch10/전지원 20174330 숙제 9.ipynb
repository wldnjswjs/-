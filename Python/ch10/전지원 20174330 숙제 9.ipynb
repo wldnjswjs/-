{
 "cells": [
  {
   "cell_type": "markdown",
   "id": "387991a9-1db2-47e0-833d-4255e0fbee63",
   "metadata": {},
   "source": [
    "# 중요사항 정리\n",
    "## 넘파이(Numpy)\n",
    "리스트와 비슷한 기능을 하고 리스트보다 처리 속도가 훨씬 빠르다.   \n",
    "대용량의 배열과 행렬 연산이 가능하다.   \n",
    "넘파이의 핵심적인 개체는 다차원 배열, 각 요소는 인덱스, 차원은 축(axis)   \n",
    "벡터(1차원 배열) axis 0, 행렬matrix(2차원 배열) 세로축(axis 0) - 가로축(axis 1), Tensor(3차원 배열) 가로축(axis 0) - 세로축(axis 1) - 높이(axis 2) scalar는 인덱스가 하나인 경우(0차원)   \n",
    "import ~ as에서 as뒤에 나타나는 이름은 as 앞의 이름을 대체하는 별칭(alias)   \n",
    "넘파이 배열에는 수학적 연산자가 적용 가능하다.(브로드캐스팅)   \n",
    "a = np.array([1,2,3]), a = a+1 -> [2,3,4]   \n",
    "인덱싱과 슬라이싱이 가능하다.(논리적인 인덱싱 가능)\n",
    "## 넘파이 속성\n",
    "ndim: 배열 축 혹은 차원의 개수   \n",
    "shape: 배열의 차원 (m,n)형식의 튜플 형, m,n은 각 차원의 원소의 크기를 의미   \n",
    "size: 배열 원소의 개수, m * n   \n",
    "dtype: 배열내의 원소의 자료형을 기술   \n",
    "itemsize: 배열내의 원소의 크기를 바이트 단위로 기술\n",
    "## 넘파이 함수\n",
    "np.array(): 배열 생성   \n",
    "np.arange([start,] stop, [step]): range()함수와 같은 의미. np.array(range())   \n",
    "np.linspace(start, stop, num): 시작값부터 끝값까지 균일한 간격으로 지정된 개수만큼의 배열을 생성.   \n",
    "np.logspace(x, y, n): 로그 스케일로 수들을 생성. 10의 x승부터 10의 y승까지 n개의 수가 생성.   \n",
    ".reshape(): 데이터의 개수는 유지하고 배열의 차원과 형태를 변경   \n",
    ".flatten(): 고차원 배열을 1차원 배열로 만든다.\n",
    "## 난수\n",
    "np.random.seed(): 컴퓨터로 만드는 난수의 초기 입력값으로 사용   \n",
    "np.random.rand(a): 0과1 사이에서 랜덤으로 a만큼 수를 구한다.   \n",
    "np.random.randint(a,b): 정수 a와 정수 b사이의 난수를 생성하여 반환   \n",
    "np.random.randn(): 난수들의 평균은 0이고 표준편차는 1이 되는 표준정규분포가 되도록 한다.   \n",
    "np.mean(name): name의 값들의 평균값   \n",
    "np.median(name): name의 값들 중 중앙값\n",
    "## 상관관계\n",
    "corrcoeff(x,y): 요소들의 상관관계를 계산한다. 두 요소들 사이의 관계가 얼마나 직선에 가까운 관계가 있는가를 나타낸다."
   ]
  },
  {
   "cell_type": "markdown",
   "id": "284d5f13-4b90-420f-962e-0d613e645db1",
   "metadata": {},
   "source": [
    "# 자기점검\n",
    "numpy 자체를 새롭게 사용하다보니 함수들이나 슬라이싱 인덱싱 하는 것에 약간 어려움을 느껴서 반복적으로 공부하였다."
   ]
  },
  {
   "cell_type": "markdown",
   "id": "08223eb7-9705-4359-9263-1ded41c0bfe5",
   "metadata": {},
   "source": [
    "# 심화문제 풀기\n",
    "### 10-1"
   ]
  },
  {
   "cell_type": "code",
   "execution_count": 3,
   "id": "59db2680-6644-4aad-b073-43612dbee7b2",
   "metadata": {},
   "outputs": [
    {
     "name": "stdout",
     "output_type": "stream",
     "text": [
      "[ 1  2  3  4  5  6  7  8  9 10 11 12 13 14 15 16 17 18 19 20]\n"
     ]
    }
   ],
   "source": [
    "import numpy as np\n",
    "num_arr = np.arange(1,21)\n",
    "print(num_arr)"
   ]
  },
  {
   "cell_type": "code",
   "execution_count": 7,
   "id": "9224e60a-6e64-47d3-8a95-64922e801067",
   "metadata": {},
   "outputs": [
    {
     "name": "stdout",
     "output_type": "stream",
     "text": [
      "[20 19 18 17 16 15 14 13 12 11 10  9  8  7  6  5  4  3  2  1]\n"
     ]
    }
   ],
   "source": [
    "print(num_arr[::-1])"
   ]
  },
  {
   "cell_type": "code",
   "execution_count": 9,
   "id": "249741ec-e06b-43d6-88a4-af1bee08cc62",
   "metadata": {},
   "outputs": [
    {
     "name": "stdout",
     "output_type": "stream",
     "text": [
      "num_arr 내의 모든 원소의 합 : 210\n"
     ]
    }
   ],
   "source": [
    "print('num_arr 내의 모든 원소의 합 :', sum(num_arr))"
   ]
  },
  {
   "cell_type": "code",
   "execution_count": 11,
   "id": "59da7475-95ff-435a-ba58-24b879d881dd",
   "metadata": {},
   "outputs": [
    {
     "name": "stdout",
     "output_type": "stream",
     "text": [
      "[[ 1  2  3  4]\n",
      " [ 5  6  7  8]\n",
      " [ 9 10 11 12]\n",
      " [13 14 15 16]\n",
      " [17 18 19 20]]\n"
     ]
    }
   ],
   "source": [
    "print(num_arr.reshape(5,4))"
   ]
  },
  {
   "cell_type": "markdown",
   "id": "d63097e7-1aae-4230-ac87-59ab750c2b0d",
   "metadata": {},
   "source": [
    "### 10-2"
   ]
  },
  {
   "cell_type": "code",
   "execution_count": 6,
   "id": "fe15bbe7-607d-4617-b041-ea5a31cd6f54",
   "metadata": {},
   "outputs": [
    {
     "name": "stdout",
     "output_type": "stream",
     "text": [
      "[[ 0  1  2  3  4]\n",
      " [ 5  6  7  8  9]\n",
      " [10 11 12 13 14]\n",
      " [15 16 17 18 19]\n",
      " [20 21 22 23 24]]\n"
     ]
    }
   ],
   "source": [
    "import numpy as np\n",
    "n_arr = np.arange(0,25)\n",
    "n_arr = n_arr.reshape(5,5)\n",
    "print(n_arr)"
   ]
  },
  {
   "cell_type": "code",
   "execution_count": 19,
   "id": "98a2d1d3-b817-4748-96a4-0ef2bd7971ec",
   "metadata": {},
   "outputs": [
    {
     "name": "stdout",
     "output_type": "stream",
     "text": [
      "첫 원소:  0\n",
      "마지막 원소 : 24\n"
     ]
    }
   ],
   "source": [
    "print('첫 원소: ', n_arr[0,0])\n",
    "print('마지막 원소 :', n_arr[-1,-1])"
   ]
  },
  {
   "cell_type": "code",
   "execution_count": 25,
   "id": "46ac1ae0-3b20-43ca-a139-93c9bcb95cfb",
   "metadata": {},
   "outputs": [
    {
     "name": "stdout",
     "output_type": "stream",
     "text": [
      "[[0 1 2 3 4]\n",
      " [5 6 7 8 9]]\n"
     ]
    }
   ],
   "source": [
    "print(n_arr[:2])"
   ]
  },
  {
   "cell_type": "code",
   "execution_count": 27,
   "id": "a9e69d21-d42a-44b9-8d1c-ab9729049fcd",
   "metadata": {},
   "outputs": [
    {
     "name": "stdout",
     "output_type": "stream",
     "text": [
      "[[10 11 12 13 14]\n",
      " [15 16 17 18 19]\n",
      " [20 21 22 23 24]]\n"
     ]
    }
   ],
   "source": [
    "print(n_arr[2:])"
   ]
  },
  {
   "cell_type": "code",
   "execution_count": 7,
   "id": "bd0aec11-e483-4fe7-8859-d5faaaf1cf85",
   "metadata": {},
   "outputs": [
    {
     "name": "stdout",
     "output_type": "stream",
     "text": [
      "[[ 0  2  4]\n",
      " [ 5  7  9]\n",
      " [10 12 14]\n",
      " [15 17 19]\n",
      " [20 22 24]]\n"
     ]
    }
   ],
   "source": [
    "print(n_arr[:,::2])"
   ]
  },
  {
   "cell_type": "code",
   "execution_count": 32,
   "id": "3710ca30-99db-472a-9b1a-5e979c2053ac",
   "metadata": {},
   "outputs": [
    {
     "name": "stdout",
     "output_type": "stream",
     "text": [
      "[[ 0  2  4]\n",
      " [10 12 14]\n",
      " [20 22 24]]\n"
     ]
    }
   ],
   "source": [
    "print(n_arr[::2, ::2])"
   ]
  },
  {
   "cell_type": "code",
   "execution_count": 35,
   "id": "deab1cd9-63f3-4f9a-a3f8-2c558e69cc9b",
   "metadata": {},
   "outputs": [
    {
     "name": "stdout",
     "output_type": "stream",
     "text": [
      "[[0 1]\n",
      " [2 3]\n",
      " [4 5]\n",
      " [6 7]\n",
      " [8 9]]\n"
     ]
    }
   ],
   "source": [
    "n_arr = n_arr[:2]\n",
    "n_arr = n_arr.reshape(5,-1)\n",
    "print(n_arr)"
   ]
  },
  {
   "cell_type": "markdown",
   "id": "d6793ee5-50fb-41d6-99b0-c351504d2f62",
   "metadata": {},
   "source": [
    "### 10-3"
   ]
  },
  {
   "cell_type": "code",
   "execution_count": 11,
   "id": "fd273b0b-3b96-47f0-b3a4-b28a79a0fc9e",
   "metadata": {},
   "outputs": [
    {
     "name": "stdout",
     "output_type": "stream",
     "text": [
      "[[[0.54340494 0.27836939 0.42451759]\n",
      "  [0.84477613 0.00471886 0.12156912]\n",
      "  [0.67074908 0.82585276 0.13670659]]\n",
      "\n",
      " [[0.57509333 0.89132195 0.20920212]\n",
      "  [0.18532822 0.10837689 0.21969749]\n",
      "  [0.97862378 0.81168315 0.17194101]]\n",
      "\n",
      " [[0.81622475 0.27407375 0.43170418]\n",
      "  [0.94002982 0.81764938 0.33611195]\n",
      "  [0.17541045 0.37283205 0.00568851]]]\n"
     ]
    }
   ],
   "source": [
    "import numpy as np\n",
    "np.random.seed(100)\n",
    "a = np.random.rand(3,3,3)\n",
    "print(a)"
   ]
  },
  {
   "cell_type": "code",
   "execution_count": 45,
   "id": "804578c5-8d74-4719-af37-eab55e736e8e",
   "metadata": {},
   "outputs": [
    {
     "name": "stdout",
     "output_type": "stream",
     "text": [
      "a의 원소들 중 최댓값:  0.9786237847073697\n"
     ]
    }
   ],
   "source": [
    "print('a의 원소들 중 최댓값: ', np.max(a))"
   ]
  },
  {
   "cell_type": "code",
   "execution_count": 46,
   "id": "c2a6260b-eda7-4082-b216-a8c0499b76ce",
   "metadata": {},
   "outputs": [
    {
     "name": "stdout",
     "output_type": "stream",
     "text": [
      "a의 원소들 중 최댓값의 위치:  15\n"
     ]
    }
   ],
   "source": [
    "print('a의 원소들 중 최댓값의 위치: ', np.argmax(a))"
   ]
  },
  {
   "cell_type": "markdown",
   "id": "46fd58b5-65bf-4b75-b00c-f048dfca0bc1",
   "metadata": {},
   "source": [
    "### 10-4"
   ]
  },
  {
   "cell_type": "code",
   "execution_count": 56,
   "id": "a7fa1463-3556-4341-bcdc-d986eb40d43e",
   "metadata": {},
   "outputs": [
    {
     "name": "stdout",
     "output_type": "stream",
     "text": [
      "[[1 0 1 0 1]\n",
      " [0 1 0 1 0]\n",
      " [1 0 1 0 1]\n",
      " [0 1 0 1 0]\n",
      " [1 0 1 0 1]]\n"
     ]
    }
   ],
   "source": [
    "import numpy as np\n",
    "a = np.array([1,0,1,0,1,0,1,0,1,0,1,0,1,0,1,0,1,0,1,0,1,0,1,0,1]).reshape(5,5)\n",
    "print(a)"
   ]
  },
  {
   "cell_type": "code",
   "execution_count": 2,
   "id": "3b1cf3eb-e255-4bd0-8051-8dbbfbb70196",
   "metadata": {},
   "outputs": [
    {
     "name": "stdout",
     "output_type": "stream",
     "text": [
      "[[1 0 1 0 1]\n",
      " [0 1 0 1 0]\n",
      " [1 0 1 0 1]\n",
      " [0 1 0 1 0]\n",
      " [1 0 1 0 1]]\n"
     ]
    }
   ],
   "source": [
    "import numpy as np\n",
    "pattern = np.arange(25)\n",
    "\n",
    "for i in range(pattern.size) :\n",
    "    if i % 2 != 0 :\n",
    "        pattern[i] = 0\n",
    "    else :\n",
    "        pattern[i] = 1\n",
    "        \n",
    "pattern = pattern.reshape(5, 5)\n",
    "\n",
    "print(pattern)\n"
   ]
  },
  {
   "cell_type": "code",
   "execution_count": 3,
   "id": "85237d8b-b18b-43ce-925c-abd2caf68456",
   "metadata": {},
   "outputs": [
    {
     "name": "stdout",
     "output_type": "stream",
     "text": [
      "[[1 0 1 0 1]\n",
      " [0 1 0 1 0]\n",
      " [1 0 1 0 1]\n",
      " [0 1 0 1 0]\n",
      " [1 0 1 0 1]]\n"
     ]
    }
   ],
   "source": [
    "A = np.ones(25, dtype='int') #np.ones는 모든 인덱스값을 1로 하는 함수\n",
    "A[1::2] = 0\n",
    "A = A.reshape(5, 5)\n",
    "print(A)\n"
   ]
  },
  {
   "cell_type": "code",
   "execution_count": 8,
   "id": "581bf65a-e419-4968-b8c9-4ab60e9df0af",
   "metadata": {},
   "outputs": [
    {
     "name": "stdout",
     "output_type": "stream",
     "text": [
      "행 방향 성분의 합:  [3 2 3 2 3]\n"
     ]
    }
   ],
   "source": [
    "print('행 방향 성분의 합: ', np.sum(A, axis=0))"
   ]
  },
  {
   "cell_type": "markdown",
   "id": "7fa3b1c9-fb8b-410e-a2f1-cabd68a5b060",
   "metadata": {},
   "source": [
    "### 10-5"
   ]
  },
  {
   "cell_type": "code",
   "execution_count": 79,
   "id": "89575f3d-f3a6-4e5f-b25c-2eae1219f301",
   "metadata": {},
   "outputs": [
    {
     "name": "stdout",
     "output_type": "stream",
     "text": [
      "10번째 원소 : 9\n",
      "20번째 원소 : 19\n"
     ]
    }
   ],
   "source": [
    "import numpy as np\n",
    "a = np.arange(0,32).reshape(4,4,2)\n",
    "b = a.flatten()\n",
    "print('10번째 원소 :', b[9])\n",
    "print('20번째 원소 :', b[19])"
   ]
  },
  {
   "cell_type": "markdown",
   "id": "447b60d9-41ad-422c-8628-cbddb422bcf9",
   "metadata": {},
   "source": [
    "### 10-6"
   ]
  },
  {
   "cell_type": "code",
   "execution_count": 3,
   "id": "bc65e372-392c-4431-92e5-90c979424ca4",
   "metadata": {},
   "outputs": [
    {
     "name": "stdout",
     "output_type": "stream",
     "text": [
      "[[1.         0.9963265  0.89235134 0.12124327]\n",
      " [0.9963265  1.         0.88801052 0.1064923 ]\n",
      " [0.89235134 0.88801052 1.         0.07366377]\n",
      " [0.12124327 0.1064923  0.07366377 1.        ]]\n",
      "x1과 상관관계가 가장 높은 리스트는 무엇인가? x2\n",
      "x1과 상관관계가 가장 낮은 리스트는 무엇인가? x4\n"
     ]
    }
   ],
   "source": [
    "import numpy as np\n",
    "x1 = [i for i in range(100)]\n",
    "x2 = [i + np.random.randint(1,10) for i in range(100)]\n",
    "x3 = [i + np.random.randint(1,50) for i in range(100)]\n",
    "x4 = [np.random.randint(1,100) for i in range(100)]\n",
    "\n",
    "result = np.corrcoef([x1, x2, x3, x4])\n",
    "print(result)\n",
    "print('x1과 상관관계가 가장 높은 리스트는 무엇인가?', 'x' + str(np.argmax(result[0,1:])+2))\n",
    "print('x1과 상관관계가 가장 낮은 리스트는 무엇인가?', 'x' + str(np.argmin(result[0,1:])+2))"
   ]
  },
  {
   "cell_type": "code",
   "execution_count": 7,
   "id": "cf149cab-1382-4acb-b806-9bd71c98e2eb",
   "metadata": {},
   "outputs": [
    {
     "data": {
      "image/png": "[encoded data removed]",
      "text/plain": [
       "<Figure size 432x288 with 1 Axes>"
      ]
     },
     "metadata": {
      "needs_background": "light"
     },
     "output_type": "display_data"
    }
   ],
   "source": [
    "import matplotlib.pyplot as plt\n",
    "plt.scatter(x1,x2)\n",
    "plt.xlabel('x1')\n",
    "plt.ylabel('x2')\n",
    "plt.show()"
   ]
  },
  {
   "cell_type": "code",
   "execution_count": 8,
   "id": "f80e6631-27d9-4b19-aa20-4ca7a5a0e272",
   "metadata": {},
   "outputs": [
    {
     "data": {
      "image/png": "[encoded data removed]",
      "text/plain": [
       "<Figure size 432x288 with 1 Axes>"
      ]
     },
     "metadata": {
      "needs_background": "light"
     },
     "output_type": "display_data"
    }
   ],
   "source": [
    "import matplotlib.pyplot as plt\n",
    "plt.scatter(x1,x3)\n",
    "plt.xlabel('x1')\n",
    "plt.ylabel('x3')\n",
    "plt.show()"
   ]
  },
  {
   "cell_type": "code",
   "execution_count": 10,
   "id": "b2462b56-cd33-408e-b27d-0606fa9587f5",
   "metadata": {},
   "outputs": [
    {
     "data": {
      "image/png": "[encoded data removed]",
      "text/plain": [
       "<Figure size 432x288 with 1 Axes>"
      ]
     },
     "metadata": {
      "needs_background": "light"
     },
     "output_type": "display_data"
    }
   ],
   "source": [
    "import matplotlib.pyplot as plt\n",
    "plt.scatter(x1,x4)\n",
    "plt.xlabel('x1')\n",
    "plt.ylabel('x4')\n",
    "plt.show()"
   ]
  }
 ],
 "metadata": {
  "kernelspec": {
   "display_name": "Python 3 (ipykernel)",
   "language": "python",
   "name": "python3"
  },
  "language_info": {
   "codemirror_mode": {
    "name": "ipython",
    "version": 3
   },
   "file_extension": ".py",
   "mimetype": "text/x-python",
   "name": "python",
   "nbconvert_exporter": "python",
   "pygments_lexer": "ipython3",
   "version": "3.9.7"
  }
 },
 "nbformat": 4,
 "nbformat_minor": 5
}
