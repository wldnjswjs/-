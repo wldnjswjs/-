{
 "cells": [
  {
   "cell_type": "markdown",
   "id": "77bd0c08-c180-4a12-807f-cdaf9c32e9a7",
   "metadata": {},
   "source": [
    "# 중요사항 정리"
   ]
  },
  {
   "cell_type": "markdown",
   "id": "7cc28fb0-7d50-4a2a-b865-ebbf83126c31",
   "metadata": {},
   "source": [
    "## 프로그램의 기본 제어 구조\n",
    "순차 구조 - 여러 명령이 순차적으로 실행되는 구조   \n",
    "선택 구조 - 여러 개 중 한의 명령문을 선택하여 실행하는 구조   \n",
    "반복 구조 - 동일한 명령이 반복되면서 실행되는 구조\n",
    "## if문\n",
    "조건을 만족하는지 그렇지 않은지를 판정하는 식을 조건식이라고 한다.   \n",
    "이 조건식은 참 또는 거짓의 값을 갖는 부울형으로 평가된다.   \n",
    "관계 연산자는 두 개의 피연산자를 비교하는데 사용되는데 참, 거짓으로 나타나므로 조건식이 될 수 있다.   \n",
    "if 조건식:\n",
    "    실행할 내용   \n",
    "## 블록(들여쓰기)\n",
    "들여쓰기가 중요하다. 동일한 개수의 공백을 가진 문장들을 하나의 불록으로 생각한다.   \n",
    "## if-else문\n",
    "if 조건식:   \n",
    "    실행할 내용   \n",
    "else:   \n",
    "    실행할 내용   \n",
    "조금 더 북잡한 조건을 설정하려면 if-else문 안에 if-else문을 쓸 수 있다.   "
   ]
  },
  {
   "cell_type": "markdown",
   "id": "229d7836-28a0-4b62-89f3-59661ed9d1a6",
   "metadata": {},
   "source": [
    "# 자기 점검"
   ]
  },
  {
   "cell_type": "markdown",
   "id": "bf979908-9000-4bdf-96ea-e206cac084a5",
   "metadata": {},
   "source": [
    "터틀 그래픽 관련 함수들을 사용하여 프로그램하는 것이 어려웠다. 4.7문제와 4.9문제를 푸는게 어려웠다."
   ]
  },
  {
   "cell_type": "markdown",
   "id": "dd6614f3-2b58-476a-a085-6f5a127fec65",
   "metadata": {},
   "source": [
    "# 심화문제 풀이"
   ]
  },
  {
   "cell_type": "markdown",
   "id": "76547686-6100-4589-8af5-34c5e152621a",
   "metadata": {},
   "source": [
    "### 4.1"
   ]
  },
  {
   "cell_type": "code",
   "execution_count": 9,
   "id": "e6cdea12-6bed-4f7c-affa-83413a2cfbc8",
   "metadata": {},
   "outputs": [
    {
     "name": "stdin",
     "output_type": "stream",
     "text": [
      "알파벳을 입력하시오:  i\n"
     ]
    },
    {
     "name": "stdout",
     "output_type": "stream",
     "text": [
      "i 은(는) 모음입니다.\n"
     ]
    }
   ],
   "source": [
    "x = (input('알파벳을 입력하시오: '))\n",
    "if (x == 'a') or (x == 'e') or (x == 'u') or (x == 'i') or (x == 'o'):\n",
    "    print(x,'은(는) 모음입니다.')\n",
    "else:\n",
    "    print(x, '은(는) 자음입니다.')"
   ]
  },
  {
   "cell_type": "code",
   "execution_count": 1,
   "id": "1618500b-175f-4083-9575-ba3f352b7a6d",
   "metadata": {},
   "outputs": [
    {
     "name": "stdin",
     "output_type": "stream",
     "text": [
      "알파벳을 입력하시오:  t\n"
     ]
    },
    {
     "name": "stdout",
     "output_type": "stream",
     "text": [
      "t 은(는) 자음입니다.\n"
     ]
    }
   ],
   "source": [
    "x = (input('알파벳을 입력하시오: '))\n",
    "if (x == 'a') or (x == 'e') or (x == 'u') or (x == 'i') or (x == 'o'):\n",
    "    print(x,'은(는) 모음입니다.')\n",
    "else:\n",
    "    print(x, '은(는) 자음입니다.')"
   ]
  },
  {
   "cell_type": "markdown",
   "id": "d3d649c2-47eb-4452-83b6-d734d4e41fbd",
   "metadata": {
    "tags": []
   },
   "source": [
    "### 4.2"
   ]
  },
  {
   "cell_type": "code",
   "execution_count": 13,
   "id": "1426f681-c84a-4eab-9a1f-52761dae7958",
   "metadata": {},
   "outputs": [
    {
     "name": "stdin",
     "output_type": "stream",
     "text": [
      "세 정수를 입력하시오:  9 122 4\n"
     ]
    },
    {
     "name": "stdout",
     "output_type": "stream",
     "text": [
      "122 9 4\n"
     ]
    }
   ],
   "source": [
    "x, y, z = map(int, input('세 정수를 입력하시오: ').split())\n",
    "a = x\n",
    "b = y\n",
    "c = z\n",
    "if a > b:\n",
    "    if b > c:\n",
    "        print(a, b, c)\n",
    "    else:\n",
    "        if a > c:\n",
    "            print(a, c, b)\n",
    "        else:\n",
    "            print(c, a, b)\n",
    "else:\n",
    "    if a > c:\n",
    "        print(b, a, c)\n",
    "    else:\n",
    "        if b > c:\n",
    "            print(b, c, a)\n",
    "        else:\n",
    "            print(c, b, a)"
   ]
  },
  {
   "cell_type": "code",
   "execution_count": 1,
   "id": "6f809198-f8a6-433d-8a56-2653eaacfbc7",
   "metadata": {},
   "outputs": [
    {
     "name": "stdin",
     "output_type": "stream",
     "text": [
      "세 정수를 입력하시오:  122 4 9\n"
     ]
    },
    {
     "name": "stdout",
     "output_type": "stream",
     "text": [
      "122 9 4\n"
     ]
    }
   ],
   "source": [
    "x, y, z = map(int, input('세 정수를 입력하시오: ').split())\n",
    "a = x\n",
    "b = y\n",
    "c = z\n",
    "if a > b:\n",
    "    if b > c:\n",
    "        print(a, b, c)\n",
    "    else:\n",
    "        if a > c:\n",
    "            print(a, c, b)\n",
    "        else:\n",
    "            print(c, a, b)\n",
    "else:\n",
    "    if a > c:\n",
    "        print(b, a, c)\n",
    "    else:\n",
    "        if b > c:\n",
    "            print(b, c, a)\n",
    "        else:\n",
    "            print(c, b, a)"
   ]
  },
  {
   "cell_type": "markdown",
   "id": "ed76f8ee-0e46-42c2-aab5-2a10670b035c",
   "metadata": {},
   "source": [
    "### 4.3"
   ]
  },
  {
   "cell_type": "code",
   "execution_count": 16,
   "id": "51072a82-d38a-422d-aaf7-b0f133d5ee01",
   "metadata": {},
   "outputs": [
    {
     "name": "stdin",
     "output_type": "stream",
     "text": [
      "나이를 입력하시오:  23\n"
     ]
    },
    {
     "name": "stdout",
     "output_type": "stream",
     "text": [
      "Adult\n"
     ]
    }
   ],
   "source": [
    "age = int(input('나이를 입력하시오: '))\n",
    "if age >= 20:\n",
    "    print('Adult')\n",
    "elif age >= 10:\n",
    "    print('Youth')\n",
    "else:\n",
    "    print('Kid')"
   ]
  },
  {
   "cell_type": "code",
   "execution_count": 17,
   "id": "7422e624-78b2-4239-9dbe-23909e9592a0",
   "metadata": {},
   "outputs": [
    {
     "name": "stdin",
     "output_type": "stream",
     "text": [
      "나이를 입력하시오:  3\n"
     ]
    },
    {
     "name": "stdout",
     "output_type": "stream",
     "text": [
      "Kid\n"
     ]
    }
   ],
   "source": [
    "age = int(input('나이를 입력하시오: '))\n",
    "if age >= 20:\n",
    "    print('Adult')\n",
    "elif age >= 10:\n",
    "    print('Youth')\n",
    "else:\n",
    "    print('Kid')"
   ]
  },
  {
   "cell_type": "markdown",
   "id": "73ad8697-2f38-4324-9e20-f69fcd09fb35",
   "metadata": {},
   "source": [
    "### 4.4"
   ]
  },
  {
   "cell_type": "code",
   "execution_count": 19,
   "id": "dcf4ef12-1146-4e57-a702-ebd0e23a32a3",
   "metadata": {},
   "outputs": [
    {
     "name": "stdin",
     "output_type": "stream",
     "text": [
      "정수를 입력하시오 : 15\n"
     ]
    },
    {
     "name": "stdout",
     "output_type": "stream",
     "text": [
      "15 는(은) 2으로 나누어지지 않습니다.\n",
      "15 는(은) 3으로 나누어집니다.\n",
      "15 는(은) 2와 3 모두로 나누어지지 않습니다.\n"
     ]
    }
   ],
   "source": [
    "num = int(input('정수를 입력하시오 :'))\n",
    "if num % 2 ==0:\n",
    "    print(num, '는(은) 2로 나누어집니다.')\n",
    "    if num % 3==0:\n",
    "        print(num, '는(은) 2와 3 모두 나누어집니다.')\n",
    "    else:\n",
    "        print(num, '는(은) 3으로 나누어지지 않습니다.')\n",
    "else:\n",
    "    print(num, '는(은) 2으로 나누어지지 않습니다.')\n",
    "    if num % 3==0: \n",
    "        print(num, '는(은) 3으로 나누어집니다.')\n",
    "        print(num, '는(은) 2와 3 모두로 나누어지지 않습니다.')\n",
    "    else:\n",
    "        print(num, '는(은) 2와 3 모두 나누어지지 않습니다.')"
   ]
  },
  {
   "cell_type": "markdown",
   "id": "0c2e942d-8b75-4902-8777-49f9112738b7",
   "metadata": {},
   "source": [
    "### 4.5"
   ]
  },
  {
   "cell_type": "code",
   "execution_count": 20,
   "id": "0a043c75-45eb-47e1-be41-1fff56d63c0b",
   "metadata": {},
   "outputs": [
    {
     "name": "stdin",
     "output_type": "stream",
     "text": [
      "세 복권번호를 입력하시오:  1 5 7\n"
     ]
    },
    {
     "name": "stdout",
     "output_type": "stream",
     "text": [
      "다음 기회에...\n"
     ]
    }
   ],
   "source": [
    "import random\n",
    "n1, n2, n3 = map(int, input('세 복권번호를 입력하시오: ').split())\n",
    "x = random.randint(0,9)\n",
    "y = random.randint(0,9)\n",
    "z = random.randint(0,9)\n",
    "\n",
    "if n1 == x:\n",
    "    if n2 == y:\n",
    "        if n3 == z:\n",
    "            print('상금 1억원')\n",
    "        else:\n",
    "            print('상금 1천만원')\n",
    "    else:\n",
    "        if n3 == z:\n",
    "            print('상금 1천만원')\n",
    "        else:\n",
    "            print('상금 1만원')\n",
    "else:\n",
    "    if n2 == y:\n",
    "        if n3 == z:\n",
    "            print('상금 1천만원')\n",
    "        else:\n",
    "            print('상금 1만원')\n",
    "    else:\n",
    "        if n3 == z:\n",
    "            print('상금 1만원')\n",
    "        else:\n",
    "            print('다음 기회에...')"
   ]
  },
  {
   "cell_type": "markdown",
   "id": "7f44b615-1935-47eb-8cdd-046ae10ba4ac",
   "metadata": {},
   "source": [
    "### 4.6"
   ]
  },
  {
   "cell_type": "code",
   "execution_count": 32,
   "id": "6b06f449-2001-4b9a-9ac9-eaa6934595f6",
   "metadata": {},
   "outputs": [
    {
     "name": "stdout",
     "output_type": "stream",
     "text": [
      "우리식당에 오신것을 환영합니다. 메뉴는 다음과 같습니다.\n",
      "-햄버거(입력 b)\n",
      "-치킨(입력 c)\n",
      "-피자(입력 p)\n"
     ]
    },
    {
     "name": "stdin",
     "output_type": "stream",
     "text": [
      "메뉴를 선택하세요(알파벳 b, c, p 입력):  c\n"
     ]
    },
    {
     "name": "stdout",
     "output_type": "stream",
     "text": [
      "치킨을 선택하였습니다.\n"
     ]
    }
   ],
   "source": [
    "print('우리식당에 오신것을 환영합니다. 메뉴는 다음과 같습니다.\\n-햄버거(입력 b)\\n-치킨(입력 c)\\n-피자(입력 p)')\n",
    "menu = input('메뉴를 선택하세요(알파벳 b, c, p 입력): ')\n",
    "if menu == 'b':\n",
    "    print('햄버거를 선택하였습니다.')\n",
    "elif menu == 'c':\n",
    "    print('치킨을 선택하였습니다.')\n",
    "elif menu == 'p':\n",
    "    print('피자를 선택하였습니다.')\n",
    "else:\n",
    "    print('선택한 메뉴가 없습니다.')"
   ]
  },
  {
   "cell_type": "markdown",
   "id": "88db3ef0-ef9a-4884-9a48-f446a0202cb2",
   "metadata": {},
   "source": [
    "### 4.7"
   ]
  },
  {
   "cell_type": "code",
   "execution_count": 8,
   "id": "85398589-358b-4ee4-b027-538fccf6d7a5",
   "metadata": {},
   "outputs": [
    {
     "name": "stdout",
     "output_type": "stream",
     "text": [
      "82 + 17 =??\n"
     ]
    },
    {
     "name": "stdin",
     "output_type": "stream",
     "text": [
      "정답을 입력하세요 99\n"
     ]
    },
    {
     "name": "stdout",
     "output_type": "stream",
     "text": [
      "잘했어요\n"
     ]
    }
   ],
   "source": [
    "import random\n",
    "n1 = random.randint(1,100)\n",
    "n2 = random.randint(1,100)\n",
    "truth = n1 + n2\n",
    "\n",
    "print(n1, '+', n2, '=??')\n",
    "cal = int(input('정답을 입력하세요'))\n",
    "\n",
    "if cal == truth:\n",
    "    print('잘했어요')\n",
    "else:\n",
    "    print('정답은', truth, '입니다.')"
   ]
  },
  {
   "cell_type": "markdown",
   "id": "f09934ed-1636-40c4-8e1b-e83564976721",
   "metadata": {},
   "source": [
    "### 4.8"
   ]
  },
  {
   "cell_type": "code",
   "execution_count": 48,
   "id": "109e7397-9421-4954-bf49-f20b0ac827b8",
   "metadata": {},
   "outputs": [
    {
     "name": "stdout",
     "output_type": "stream",
     "text": [
      "1)덧셈 2)뺄셈 3)곱셈 4)나눗셈\n"
     ]
    },
    {
     "name": "stdin",
     "output_type": "stream",
     "text": [
      "어떤 연산을 원하는지 번호를 입력하세요 : 4\n",
      "연산을 원하는 숫자 두개를 입력하세요:  3 4\n"
     ]
    },
    {
     "name": "stdout",
     "output_type": "stream",
     "text": [
      "3 / 4 = 0.75\n"
     ]
    }
   ],
   "source": [
    "print('1)덧셈 2)뺄셈 3)곱셈 4)나눗셈')\n",
    "cal = int(input('어떤 연산을 원하는지 번호를 입력하세요 :'))\n",
    "n1, n2 = map(int, input('연산을 원하는 숫자 두개를 입력하세요: ').split())\n",
    "\n",
    "if cal == 1:\n",
    "    print(n1, '+', n2, '=', n1 + n2)\n",
    "elif cal == 2:\n",
    "    print(n1, '-', n2, '=', n1 - n2)\n",
    "elif cal == 3:\n",
    "    print(n1, '*', n2, '=', n1 * n2)\n",
    "elif cal == 4:\n",
    "    print(n1, '/', n2, '=', n1 / n2)\n",
    "else:\n",
    "    print('잘못 입력하였습니다.')"
   ]
  }
 ],
 "metadata": {
  "kernelspec": {
   "display_name": "Python 3 (ipykernel)",
   "language": "python",
   "name": "python3"
  },
  "language_info": {
   "codemirror_mode": {
    "name": "ipython",
    "version": 3
   },
   "file_extension": ".py",
   "mimetype": "text/x-python",
   "name": "python",
   "nbconvert_exporter": "python",
   "pygments_lexer": "ipython3",
   "version": "3.9.7"
  }
 },
 "nbformat": 4,
 "nbformat_minor": 5
}
