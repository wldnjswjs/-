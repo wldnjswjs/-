{
 "cells": [
  {
   "cell_type": "markdown",
   "id": "bc5a92f7-3221-45c6-8dce-842d472def99",
   "metadata": {},
   "source": [
    "# 중요사항 정리\n",
    "## 딕셔너리\n",
    "리스트와 같이 값을 저장하는 자료구조로 키와 값도 함께 저장되는데 키-값 쌍이라고 한다.   \n",
    "딕셔너리 이름 = {\"키\" : \"값\"}   \n",
    "딕셔너리 이름[\"키\"] = \"값\"   \n",
    "딕셔너리에서는 키가 있어야 값을 찾을 수 있다.   \n",
    "## 딕셔너리 메소드\n",
    "keys(): 모든 키를 출력   \n",
    "values(): 모든 값을 출력   \n",
    "items(): 내부의 모든 값을 출력   \n",
    "get(key): 키에 대한 값 반환, 키가 없으면 none 반환   \n",
    "pop(key): 키에 대한 값 반환 후 그 항목 삭제. 키가 없으면 오류   \n",
    "popitem(): 제일 마지막에 입력된 항목을 반환 후, 삭제.   \n",
    "sorted(): 키, 값의 튜플 쌍을 받아 정렬   \n",
    "del: 삭제   \n",
    "clear(): 모든 항목 삭제   \n",
    "## 람다 함수 = 이름이 없는 함수\n",
    "함수를 만들지 않고 함수화된 기능만을 불러 사용하고자 할 경우   \n",
    "ex. (lambda x, y : x + y)(10, 20)\n",
    "## 집합\n",
    "순서가 없고 중복이 없는 자료형.   \n",
    "문자열일 경우 각 문자들이 하나의 요소가 된다.   \n",
    "비어 있는 집합을 생성할 때는 set()함수를 사용.   \n",
    "in 연산자를 사용하여 집합에 있는지 검사 가능   \n",
    "for문을 사용하여 접근 가능   \n",
    "## 집합의 메소드\n",
    "add(): 요소 추가   \n",
    "remove(): 요소 제거   \n",
    "len(): 개수   \n",
    "max(): 가장 큰 값   \n",
    "min(): 가장 작은 값   \n",
    "sorted(): 정렬   \n",
    "sum(): 합계   \n",
    "set(): 비어있는 집합 생성\n",
    "## 집합 비교 연산\n",
    "==, != 같은지 검사\n",
    "<, <= 진상위 집합, 상위 집합 검사\n",
    "## 집합 논리 연산\n",
    "all(): 모두 True인지 검사   \n",
    "any(): 하나라도 True가 있는지 검사   \n",
    ".union(): 합집합 A|B   \n",
    ".intersection(): 교집합 A&B    \n",
    ".difference(): 차집합 A-B    \n",
    ".symmetry_difference(): 대칭차집합 A^B     \n",
    "## 파일\n",
    "open(): 파일을 연다. 'w' 인자는 쓰기 모드, 'r' 인자는 읽기 모드   \n",
    ".write(): 파일 내용 쓰기   \n",
    ".read(): 파일 내용 읽기   \n",
    ".close(): 파일을 닫는다."
   ]
  },
  {
   "cell_type": "markdown",
   "id": "e9e9a996-9931-4a43-b59d-e3de2443144c",
   "metadata": {},
   "source": [
    "# 자기점검\n",
    "8-4에서 1번 3번문제에서 중복이 없는 원소를 출력하는것과 중복 출현 빈도를 출력하는 방법을 모르겠다.   \n",
    "8-6에서 학번으로 조회할 경우 학번, 이름과 전화변호가 출력해야하는데 출력이 안되거나 아니면 3명의 정보가 모두 출력된다."
   ]
  },
  {
   "cell_type": "markdown",
   "id": "b19e6db9-3163-4622-ae2d-bad9fba8d971",
   "metadata": {},
   "source": [
    "# 심화문제 풀이\n",
    "### 8-1"
   ]
  },
  {
   "cell_type": "code",
   "execution_count": 3,
   "id": "fa4b7c87-ba54-4034-a4b4-e13b21ec9fa6",
   "metadata": {},
   "outputs": [
    {
     "name": "stdin",
     "output_type": "stream",
     "text": [
      "사과, 배, 수박, 귤, 포도 가격을 공백으로 구분하여 입력:  3000 4500 6000 2400 3400\n"
     ]
    },
    {
     "name": "stdout",
     "output_type": "stream",
     "text": [
      "사과      :    3000 원\n",
      "배       :    4500 원\n",
      "수박      :    6000 원\n",
      "귤       :    2400 원\n",
      "포도      :    3400 원\n"
     ]
    }
   ],
   "source": [
    "fruits_dic = {'사과':0, '배':0, '수박':0, '귤':0, '포도':0}\n",
    "\n",
    "a, b, c, d, e = map(int, input('사과, 배, 수박, 귤, 포도 가격을 공백으로 구분하여 입력: ').split( ))\n",
    "\n",
    "\n",
    "fruits_dic = {'사과':a, '배':b, '수박':c, '귤':d, '포도':e}\n",
    "\n",
    "for name, price in fruits_dic.items():\n",
    "    print('{:5s}   :   {:5d} 원'.format(name, price))"
   ]
  },
  {
   "cell_type": "code",
   "execution_count": 1,
   "id": "4a6f19c6-5b1d-4d2d-9b5b-130d55942337",
   "metadata": {},
   "outputs": [
    {
     "name": "stdin",
     "output_type": "stream",
     "text": [
      "사과, 배, 수박, 귤, 포도 가격을 공백으로 구분하여 입력: 3000 4500 6000 2400 3400\n"
     ]
    },
    {
     "name": "stdout",
     "output_type": "stream",
     "text": [
      "\n",
      "---------- 오늘의 과일 가격------------\n",
      "사과    : 3000 원\n",
      "배     : 4500 원\n",
      "수박    : 6000 원\n",
      "귤     : 2400 원\n",
      "포도    : 3400 원\n"
     ]
    }
   ],
   "source": [
    "apple, pear, watermelon, mandarin, grape = input(\n",
    "    \"사과, 배, 수박, 귤, 포도 가격을 공백으로 구분하여 입력:\").split()\n",
    "\n",
    "fruits_dic = {'사과':apple, \n",
    "               '배':pear, \n",
    "               '수박':watermelon, \n",
    "               '귤':mandarin, \n",
    "               '포도':grape}\n",
    "print()\n",
    "print(\"---------- 오늘의 과일 가격------------\")\n",
    "for key in fruits_dic.keys():\n",
    "    print('{:5s} : {:5s}원'.format(key, fruits_dic[key]))\n"
   ]
  },
  {
   "cell_type": "markdown",
   "id": "9f4d5e53-e773-4f0f-8c32-0785f452582b",
   "metadata": {},
   "source": [
    "### 8-2"
   ]
  },
  {
   "cell_type": "code",
   "execution_count": 40,
   "id": "fa884208-2838-48d9-9963-fef32d3cfddf",
   "metadata": {},
   "outputs": [
    {
     "name": "stdin",
     "output_type": "stream",
     "text": [
      "구매를 원하는 과일의 이름을 입력하시오. : 수박\n"
     ]
    },
    {
     "name": "stdout",
     "output_type": "stream",
     "text": [
      "오늘의 수박 가격은 6000 원 입니다.\n"
     ]
    }
   ],
   "source": [
    "fruits_price = {'사과':3000, '배':4500, '수박':6000, '귤':2400, '포도':3400}\n",
    "\n",
    "name = input('구매를 원하는 과일의 이름을 입력하시오. :')\n",
    "\n",
    "if name in fruits_price:\n",
    "    print('오늘의 {} 가격은 {} 원 입니다.'.format(name, fruits_price[name]))"
   ]
  },
  {
   "cell_type": "markdown",
   "id": "954f6c5f-fbab-42b4-bb81-b3ffd5819412",
   "metadata": {},
   "source": [
    "### 8-3"
   ]
  },
  {
   "cell_type": "code",
   "execution_count": 21,
   "id": "417f46af-e520-46f4-ab7a-4802e4d954ef",
   "metadata": {},
   "outputs": [
    {
     "name": "stdout",
     "output_type": "stream",
     "text": [
      "학생의 정보 목록\n",
      "{211101 : ['최성훈', '010-1234-4500']}\n",
      "{211102 : ['김은지', '010-2230-6540']}\n",
      "{211103 : ['이세은', '010-3232-7788']}\n"
     ]
    }
   ],
   "source": [
    "student = {'211101' : ['최성훈', '010-1234-4500'], '211102' : ['김은지', '010-2230-6540'], '211103' : ['이세은', '010-3232-7788']}\n",
    "\n",
    "print('학생의 정보 목록')\n",
    "\n",
    "for num, name in student.items():\n",
    "    print('{', end = '')\n",
    "    print('{} : {}'.format(num, name), end = '')\n",
    "    print('}', end = '\\n')"
   ]
  },
  {
   "cell_type": "code",
   "execution_count": 24,
   "id": "c961c14e-5c60-4df1-831a-201ed828e47b",
   "metadata": {},
   "outputs": [
    {
     "name": "stdout",
     "output_type": "stream",
     "text": [
      "학생의 정보 목록\n",
      "{211101 : ['최성훈', '010-1234-4500']}\n",
      "{211102 : ['김은지', '010-2230-6540']}\n",
      "{211103 : ['이세은', '010-3232-7788']}\n"
     ]
    }
   ],
   "source": [
    "student_tup = (('211101', '최성훈', '010-1234-4500'),\n",
    "               ('211102', '김은지', '010-2230-6540'),\n",
    "               ('211103', '이세은', '010-3232-7788'))\n",
    "\n",
    "student_dict = {}\n",
    "\n",
    "for student in student_tup:\n",
    "    student_dict[student[0]] = list(student[1:])\n",
    "\n",
    "print('학생의 정보 목록')\n",
    "for key, value in student_dict.items():\n",
    "    print('{', end = '')\n",
    "    print(key, ':', value, end = '')\n",
    "    print('}', end = '\\n')"
   ]
  },
  {
   "cell_type": "code",
   "execution_count": 27,
   "id": "c7115fc2-d87e-4759-b2a0-dc196bdc0435",
   "metadata": {},
   "outputs": [
    {
     "name": "stdin",
     "output_type": "stream",
     "text": [
      "학번을 입력하시오 : 211103\n"
     ]
    },
    {
     "name": "stdout",
     "output_type": "stream",
     "text": [
      "이름 : 이세은 \n",
      "연락처 : 010-3232-7788\n"
     ]
    }
   ],
   "source": [
    "num = input('학번을 입력하시오 :')\n",
    "\n",
    "name = student_dict[num][0]\n",
    "phone_number = student_dict[num][1]\n",
    "\n",
    "print('이름 : {} \\n연락처 : {}'.format(name, phone_number))"
   ]
  },
  {
   "cell_type": "code",
   "execution_count": 36,
   "id": "6db43d01-4720-4690-8724-db6855b21239",
   "metadata": {},
   "outputs": [
    {
     "name": "stdout",
     "output_type": "stream",
     "text": [
      "학생의 정보 목록\n"
     ]
    },
    {
     "data": {
      "text/plain": [
       "{'211101': ['최성훈', '010-1234-4500', 4.3],\n",
       " '211102': ['김은지', '010-2230-6540', 3.9],\n",
       " '211103': ['이세은', '010-3232-7788', 4.25]}"
      ]
     },
     "execution_count": 36,
     "metadata": {},
     "output_type": "execute_result"
    }
   ],
   "source": [
    "student_tup = (('211101', '최성훈', '010-1234-4500'),\n",
    "               ('211102', '김은지', '010-2230-6540'),\n",
    "               ('211103', '이세은', '010-3232-7788'))\n",
    "\n",
    "grades = [4.3, 3.9, 4.25]\n",
    "\n",
    "for i, key in enumerate(student_dict.keys()):\n",
    "    student_dict[key].append(grades[i])\n",
    "\n",
    "print('학생의 정보 목록')\n",
    "\n",
    "student_dict"
   ]
  },
  {
   "cell_type": "code",
   "execution_count": 34,
   "id": "e3db6f25-f7cc-4b38-a922-7306aa2712f7",
   "metadata": {},
   "outputs": [
    {
     "name": "stdout",
     "output_type": "stream",
     "text": [
      "학생의 정보 목록\n",
      "211101 : ['최성훈', '010-1234-4500', 4.3]\n",
      "211102 : ['김은지', '010-2230-6540', 3.9]\n",
      "211103 : ['이세은', '010-3232-7788', 4.25]\n"
     ]
    }
   ],
   "source": [
    "student_tup = (('211101', '최성훈', '010-1234-4500'),\n",
    "               ('211102', '김은지', '010-2230-6540'),\n",
    "               ('211103', '이세은', '010-3232-7788'))\n",
    "\n",
    "grades = [4.3, 3.9, 4.25]\n",
    "\n",
    "student_list = []\n",
    "for k in range(len(student_tup)):\n",
    "    st_list = list(student_tup[k])\n",
    "    st_list.append(grades[k])\n",
    "    student_list.append(tuple(st_list))\n",
    "    \n",
    "student_tup = tuple(student_list)\n",
    "\n",
    "student_dict = {}\n",
    "\n",
    "for student in student_tup:\n",
    "    student_dict[student[0]] = list(student[1:])\n",
    "\n",
    "print('학생의 정보 목록')\n",
    "for key, value in student_dict.items():\n",
    "    print(key, ':', value)\n"
   ]
  },
  {
   "cell_type": "code",
   "execution_count": 44,
   "id": "a9b9cc82-6bde-4ac1-a401-66da7eeed943",
   "metadata": {},
   "outputs": [
    {
     "name": "stdout",
     "output_type": "stream",
     "text": [
      "전체 학생의 학점 평균 : 4.1499999999999995\n"
     ]
    }
   ],
   "source": [
    "Sum = 0\n",
    "for num in student_dict.keys():\n",
    "    Sum = Sum + student_dict[num][2]\n",
    "\n",
    "print('전체 학생의 학점 평균 :', Sum/ len(student_dict.keys()))"
   ]
  },
  {
   "cell_type": "code",
   "execution_count": 37,
   "id": "60d73d66-5eb2-4fd0-9ba4-55989ba505d0",
   "metadata": {},
   "outputs": [
    {
     "name": "stdout",
     "output_type": "stream",
     "text": [
      "전체 학생의 학점 평균 : 4.15\n"
     ]
    }
   ],
   "source": [
    "grade_sum = 0\n",
    "for key in student_dict.keys():\n",
    "    grade_sum += student_dict[key][-1]\n",
    "    \n",
    "print('전체 학생의 학점 평균 : {:.2f}'.format(grade_sum/len(student_dict)))\n"
   ]
  },
  {
   "cell_type": "markdown",
   "id": "47561db8-9080-4f11-a40b-6912711b2768",
   "metadata": {
    "tags": []
   },
   "source": [
    "### 8-4"
   ]
  },
  {
   "cell_type": "code",
   "execution_count": 48,
   "id": "555a5eb2-9610-4fc1-bb81-a254addd7888",
   "metadata": {},
   "outputs": [
    {
     "data": {
      "text/plain": [
       "{10: 2, 20: 3, 30: 4, 40: 1, 50: 1}"
      ]
     },
     "execution_count": 48,
     "metadata": {},
     "output_type": "execute_result"
    }
   ],
   "source": [
    "lst = [10, 30, 40, 50, 30, 30, 20, 20, 20, 10, 30]\n",
    "\n",
    "count_dict = {}\n",
    "for k in sorted(lst):\n",
    "    if k not in count_dict:\n",
    "        count_dict[k] = 0\n",
    "    count_dict[k] += 1\n",
    "\n",
    "count_dict\n",
    "\n"
   ]
  },
  {
   "cell_type": "code",
   "execution_count": 49,
   "id": "eb589afe-64ad-43fa-89fe-402a4d862ba0",
   "metadata": {},
   "outputs": [
    {
     "name": "stdout",
     "output_type": "stream",
     "text": [
      "Counter({30: 4, 20: 3, 10: 2, 40: 1, 50: 1})\n"
     ]
    }
   ],
   "source": [
    "# collections module을 사용...\n",
    "from collections import Counter\n",
    "\n",
    "count_dict = Counter(lst)\n",
    "print(count_dict)"
   ]
  },
  {
   "cell_type": "code",
   "execution_count": 50,
   "id": "84a26641-f51f-42e7-8104-e4234cc31413",
   "metadata": {},
   "outputs": [
    {
     "name": "stdout",
     "output_type": "stream",
     "text": [
      "중복이 없는 원소 :  [40, 50]\n"
     ]
    }
   ],
   "source": [
    "count={} #count라는 딕셔너리 생성\n",
    "c = []\n",
    "for i in lst:\n",
    "    #예외 처리 사용 lst의 요소를 하나씩 꺼내서 count에 대입\n",
    "    try: count[i] += 1 #이미 존재하는 key값일 때 +1을 한다.\n",
    "    except: count[i]=1 #key에 없는 값이면 1로 저장된다.\n",
    "for j in count : \n",
    "    if count[j] == 1 :\n",
    "        c.append(j)\n",
    "print(\"중복이 없는 원소 : \", c)\n"
   ]
  },
  {
   "cell_type": "code",
   "execution_count": 51,
   "id": "9f096b72-40d7-4eeb-ada8-0c92d78c2e09",
   "metadata": {},
   "outputs": [
    {
     "data": {
      "text/plain": [
       "[40, 50]"
      ]
     },
     "execution_count": 51,
     "metadata": {},
     "output_type": "execute_result"
    }
   ],
   "source": [
    "not_overlapped = []\n",
    "\n",
    "for k in count_dict.keys():\n",
    "    if count_dict[k] == 1:\n",
    "        not_overlapped.append(k)\n",
    "\n",
    "not_overlapped\n"
   ]
  },
  {
   "cell_type": "code",
   "execution_count": 53,
   "id": "c6348f8a-f41e-4958-ac47-a768a37bd820",
   "metadata": {},
   "outputs": [
    {
     "name": "stdout",
     "output_type": "stream",
     "text": [
      "전체 원소 : [10, 20, 30, 40, 50]\n"
     ]
    }
   ],
   "source": [
    "uniques = set(lst)\n",
    "print('전체 원소 :', list(sorted(uniques)))\n"
   ]
  },
  {
   "cell_type": "code",
   "execution_count": 55,
   "id": "45e8bad8-6265-408a-8fa4-e1a9f233e56c",
   "metadata": {},
   "outputs": [
    {
     "name": "stdout",
     "output_type": "stream",
     "text": [
      "10 : 2 회\n",
      "30 : 4 회\n",
      "20 : 3 회\n"
     ]
    }
   ],
   "source": [
    "for k, v in count_dict.items():\n",
    "    if v > 1: \n",
    "        print('{} : {} 회'.format(k,v))"
   ]
  },
  {
   "cell_type": "markdown",
   "id": "886f3ee3-8f27-4304-ab1a-4fd49ab209b9",
   "metadata": {},
   "source": [
    "### 8-5"
   ]
  },
  {
   "cell_type": "code",
   "execution_count": 56,
   "id": "0d7e7e55-c3ff-4c5b-b618-88777c0d209c",
   "metadata": {},
   "outputs": [
    {
     "name": "stdout",
     "output_type": "stream",
     "text": [
      "사전 프로그램 시작... 종료는 q를 입력\n"
     ]
    },
    {
     "name": "stdin",
     "output_type": "stream",
     "text": [
      "$  q\n"
     ]
    },
    {
     "name": "stdout",
     "output_type": "stream",
     "text": [
      "사전 프로그램을 종료합니다.\n"
     ]
    }
   ],
   "source": [
    "print('사전 프로그램 시작... 종료는 q를 입력')\n",
    "dictionary = {}\n",
    "\n",
    "while True:\n",
    "    st = input('$ ')\n",
    "    command = st[0]\n",
    "    if command == '<':\n",
    "        st = st[1:]\n",
    "        inputStr = st.split(':')\n",
    "        if len(inputStr) < 2:\n",
    "            print('입력 오류가 발생했습니다.')\n",
    "        else:\n",
    "            dictionary[inputStr[0].strip()] = inputStr[1].strip()\n",
    "    elif command == '>':\n",
    "        st = st[1:]\n",
    "        inputStr = st.strip()\n",
    "        if inputStr in dictionary:\n",
    "            print(dictionary[inputStr])\n",
    "        else:\n",
    "            print('{}가 사전에 없습니다.'.format(inputStr))\n",
    "    elif command == 'v':\n",
    "        print('영어 사전에 있는 단어와 뜻을 출력합니다.')\n",
    "        for eng, kor in dictionary.items():\n",
    "            print('{} : {}'.format(eng, kor))\n",
    "    elif command == 'q':\n",
    "        break\n",
    "    else:\n",
    "        print('입력 오류가 발생했습니다.')\n",
    "\n",
    "print('사전 프로그램을 종료합니다.')"
   ]
  },
  {
   "cell_type": "markdown",
   "id": "a078da4a-44c4-43ce-87dc-f4ef7546daec",
   "metadata": {},
   "source": [
    "### 8-6"
   ]
  },
  {
   "cell_type": "code",
   "execution_count": 58,
   "id": "c51a34a7-f56e-473c-91b0-2f29f16264ca",
   "metadata": {},
   "outputs": [
    {
     "name": "stdout",
     "output_type": "stream",
     "text": [
      "211101 : 강이안\n",
      "211102 : 박동민\n",
      "211103 : 김수정\n"
     ]
    }
   ],
   "source": [
    "student_tuple = [('211101', '강이안', '010-123-1111'), \n",
    "                 ('211102', '박동민', '010-123-2222'), \n",
    "                 ('211103', '김수정', '010-123-3333')]\n",
    "\n",
    "student_dict = {}\n",
    "for student in student_tuple:\n",
    "    student_id, values = student[0], student[1:]\n",
    "    student_dict[student_id] = values\n",
    "    \n",
    "for student_id, values in student_dict.items():\n",
    "    print(student_id, ':', values[0])\n"
   ]
  },
  {
   "cell_type": "code",
   "execution_count": 59,
   "id": "3c14af9f-423e-4124-99f8-6faeb31417c9",
   "metadata": {},
   "outputs": [
    {
     "name": "stdin",
     "output_type": "stream",
     "text": [
      "학번을 입력하세요:  211103\n"
     ]
    },
    {
     "name": "stdout",
     "output_type": "stream",
     "text": [
      "211103 학생은 김수정이며, 전화번호는 010-123-3333입니다.\n"
     ]
    }
   ],
   "source": [
    "student_id = input('학번을 입력하세요: ').strip()\n",
    "values = student_dict[student_id]\n",
    "\n",
    "print('{} 학생은 {}이며, 전화번호는 {}입니다.'.format(student_id, values[0], values[1]))"
   ]
  }
 ],
 "metadata": {
  "kernelspec": {
   "display_name": "Python 3 (ipykernel)",
   "language": "python",
   "name": "python3"
  },
  "language_info": {
   "codemirror_mode": {
    "name": "ipython",
    "version": 3
   },
   "file_extension": ".py",
   "mimetype": "text/x-python",
   "name": "python",
   "nbconvert_exporter": "python",
   "pygments_lexer": "ipython3",
   "version": "3.9.7"
  }
 },
 "nbformat": 4,
 "nbformat_minor": 5
}
