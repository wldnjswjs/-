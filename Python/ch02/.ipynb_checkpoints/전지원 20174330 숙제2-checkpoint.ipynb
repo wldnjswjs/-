{
 "cells": [
  {
   "cell_type": "markdown",
   "id": "2fdb147e",
   "metadata": {},
   "source": [
    "# 2장 값을 담아 다루어 보자"
   ]
  },
  {
   "cell_type": "markdown",
   "id": "dceee047",
   "metadata": {},
   "source": [
    "# 1. 중요한 사항 정리   \n",
    "## 변수\n",
    "### -변수: 데이터를 저장하는 공간.   \n",
    "변수는 컴퓨터의 메모리 공간에 이름을 붙이는 것.   \n",
    "'='기호는 오른쪽의 값을 왼쪽의 변수에 저장하라는 의미이다. (대입연산자)   \n",
    "### -변수의 내용은 언제든 바꿀 수 있다.   \n",
    "한 줄에 여러 개의 변수를 선언하고 이 변수에 값을 동시에 할당 가능, (동시 할당문)   \n",
    "### -변수의 이름   \n",
    "식별자는 문자와 숫자, 밑줄 문자로만 이루어진다.   \n",
    "식별자의 첫 글자는 숫자로 시작할 수 없고 중간에 공백을 가질 수 없다.   \n",
    "대문자와 소문자는 구별한다.   \n",
    "예약어는 식별자로 사용불가   \n",
    "변수의 역할을 가장 잘 설명하는 이름이 좋다.   \n",
    "### -변수에는 문자열도 저장할 수 있다.\n",
    "len(): 문자열의 길이를 알 수 있다.   \n",
    "### -자료형\n",
    "프로그램에서 사용할 수 있는 데이터의 종류   \n",
    "파이썬에서는 같은 변수에 정수 데이터를 저장하였다가 실수 데이터를 저장하는게 가능(동적 형결정)   \n",
    "정수: int    \n",
    "실수: float   \n",
    "문자열: str   \n",
    "부울형(참,거짓): bool   \n",
    "변수의 자료형을 알려면 type()함수\n",
    "자료형에 따라 연산결과가 달라진다.   \n",
    "### -컴퓨터 수치 표현 한계\n",
    "컴퓨터의 저장공간은 유한, 컴퓨터는 무한 표시 불가능   \n",
    "### -문자들의 연속된 나열을 문자열이라한다.\n",
    "큰따옴표나 작은따옴표로 감싸면 문자열이 된다.\n",
    "큰따옴표와 작은따옴표를 동시에 사용하는데 이는 문자열 도중 큰따옴표나 작은따옴표를 사용하기 위함이다.   \n",
    "또는 \\를 이용하여 같은 모양의 따옴표안에 같은 따옴표를 사용할 수 있다.\n",
    "\\를 출력하고자 하면 \\를 2개 연속 사용하면 된다.\n",
    "### -자료형의 변환\n",
    "자료형을 적고 ()안에 적으면 ()안의 내용들이 앞에 적힌 자료형으로 변환된다.\n",
    "### -input()함수\n",
    "사용자에게 값을 입력받는 함수이다. 무조건 문자열 형태로 입력받는다. 다른 자료형을 이용하기위해서는 자료형변환을 사용한다."
   ]
  },
  {
   "cell_type": "markdown",
   "id": "ffa26bc8",
   "metadata": {},
   "source": [
    "# 2. 자기 점검\n",
    "2.11문제를 보면 역슬레시를 사용할 때 화면에 \\모양으로 뜨는데 역슬레시 모양을 뜨게 할 수 있는 방법이 없나요?"
   ]
  },
  {
   "cell_type": "markdown",
   "id": "e444421a",
   "metadata": {},
   "source": [
    "# 3. 심화문제 풀기"
   ]
  },
  {
   "cell_type": "markdown",
   "id": "89a2a72c",
   "metadata": {},
   "source": [
    "## 2.1"
   ]
  },
  {
   "cell_type": "code",
   "execution_count": 1,
   "id": "a61c4477",
   "metadata": {},
   "outputs": [
    {
     "name": "stdout",
     "output_type": "stream",
     "text": [
      "100 + 200 = 300\n"
     ]
    }
   ],
   "source": [
    "print(100,'+',200 ,'=', 100+200)"
   ]
  },
  {
   "cell_type": "code",
   "execution_count": 2,
   "id": "e251c395",
   "metadata": {},
   "outputs": [
    {
     "name": "stdout",
     "output_type": "stream",
     "text": [
      "200 + 300 + 400 = 900\n"
     ]
    }
   ],
   "source": [
    "print(200,'+',300,'+',400,'=', 200+300+400)"
   ]
  },
  {
   "cell_type": "markdown",
   "id": "c2f67feb",
   "metadata": {},
   "source": [
    "## 2.2"
   ]
  },
  {
   "cell_type": "code",
   "execution_count": 3,
   "id": "d4724611",
   "metadata": {},
   "outputs": [
    {
     "name": "stdout",
     "output_type": "stream",
     "text": [
      "30\n",
      "60\n"
     ]
    }
   ],
   "source": [
    "width=30\n",
    "height=60\n",
    "print(width)\n",
    "print(height)"
   ]
  },
  {
   "cell_type": "markdown",
   "id": "0827be7d",
   "metadata": {},
   "source": [
    "## 2.3"
   ]
  },
  {
   "cell_type": "code",
   "execution_count": 4,
   "id": "dee1e027",
   "metadata": {},
   "outputs": [
    {
     "name": "stdout",
     "output_type": "stream",
     "text": [
      "30\n",
      "60\n"
     ]
    }
   ],
   "source": [
    "width, height = 30, 60\n",
    "print(width)\n",
    "print(height)"
   ]
  },
  {
   "cell_type": "markdown",
   "id": "b6e4a7f1",
   "metadata": {},
   "source": [
    "## 2.4"
   ]
  },
  {
   "cell_type": "markdown",
   "id": "e91c991c",
   "metadata": {},
   "source": [
    "### 2.4-1~2"
   ]
  },
  {
   "cell_type": "code",
   "execution_count": 23,
   "id": "20cb2e54",
   "metadata": {},
   "outputs": [
    {
     "name": "stdout",
     "output_type": "stream",
     "text": [
      "삼각형의 넓이: 400.0\n"
     ]
    }
   ],
   "source": [
    "width = 40\n",
    "height = 20\n",
    "get_triangle_area = width*height/2\n",
    "print('삼각형의 넓이:', get_triangle_area)"
   ]
  },
  {
   "cell_type": "markdown",
   "id": "2a510956",
   "metadata": {},
   "source": [
    "### 2.4-3"
   ]
  },
  {
   "cell_type": "code",
   "execution_count": 11,
   "id": "337b9f62",
   "metadata": {},
   "outputs": [
    {
     "name": "stdout",
     "output_type": "stream",
     "text": [
      "삼각형의 넓이: 400.0\n"
     ]
    }
   ],
   "source": [
    "width, height= 40, 20\n",
    "get_triangle_area = width*height/2\n",
    "print('삼각형의 넓이:', get_triangle_area)"
   ]
  },
  {
   "cell_type": "markdown",
   "id": "05d535e8",
   "metadata": {},
   "source": [
    "## 2.5"
   ]
  },
  {
   "cell_type": "code",
   "execution_count": 14,
   "id": "fa8aafe1",
   "metadata": {},
   "outputs": [
    {
     "name": "stdout",
     "output_type": "stream",
     "text": [
      "정사각형의 밑변을 입력하시오: 40\n",
      "1600\n"
     ]
    }
   ],
   "source": [
    "밑변 = int(input('정사각형의 밑변을 입력하시오: '))\n",
    "면적 = 밑변*밑변\n",
    "print(면적)"
   ]
  },
  {
   "cell_type": "markdown",
   "id": "7d0727f8",
   "metadata": {},
   "source": [
    "## 2.6"
   ]
  },
  {
   "cell_type": "code",
   "execution_count": 16,
   "id": "74bd3398",
   "metadata": {},
   "outputs": [
    {
     "name": "stdout",
     "output_type": "stream",
     "text": [
      "1에서 10까지의 합 : 55\n"
     ]
    }
   ],
   "source": [
    "print('1에서 10까지의 합 :', 1+2+3+4+5+6+7+8+9+10)"
   ]
  },
  {
   "cell_type": "markdown",
   "id": "8093575d",
   "metadata": {},
   "source": [
    "## 2.7"
   ]
  },
  {
   "cell_type": "code",
   "execution_count": 17,
   "id": "693f55ae",
   "metadata": {},
   "outputs": [
    {
     "name": "stdout",
     "output_type": "stream",
     "text": [
      "10! =  3628800\n"
     ]
    }
   ],
   "source": [
    "print('10! = ', 1*2*3*4*5*6*7*8*9*10)"
   ]
  },
  {
   "cell_type": "markdown",
   "id": "f538a6bd",
   "metadata": {},
   "source": [
    "## 2.8"
   ]
  },
  {
   "cell_type": "code",
   "execution_count": 25,
   "id": "4aa43e2c",
   "metadata": {},
   "outputs": [
    {
     "name": "stdout",
     "output_type": "stream",
     "text": [
      "섭씨 화씨\n",
      "0 32.0\n",
      "10 50.0\n",
      "20 68.0\n",
      "30 86.0\n",
      "40 104.0\n",
      "50 122.0\n"
     ]
    }
   ],
   "source": [
    "print('섭씨 화씨')\n",
    "celsius = 0\n",
    "fahrenheit = (9/5) * celsius + 32\n",
    "print(celsius, fahrenheit)\n",
    "celsius = 10\n",
    "fahrenheit = (9/5) * celsius + 32\n",
    "print(celsius, fahrenheit)\n",
    "celsius = 20\n",
    "fahrenheit = (9/5) * celsius + 32\n",
    "print(celsius, fahrenheit)\n",
    "celsius = 30\n",
    "fahrenheit = (9/5) * celsius + 32\n",
    "print(celsius,   fahrenheit)\n",
    "celsius = 40\n",
    "fahrenheit = (9/5) * celsius + 32\n",
    "print(celsius, fahrenheit)\n",
    "celsius = 50\n",
    "fahrenheit = (9/5) * celsius + 32\n",
    "print(celsius, fahrenheit)"
   ]
  },
  {
   "cell_type": "markdown",
   "id": "eb4a3df3",
   "metadata": {},
   "source": [
    "## 2.9"
   ]
  },
  {
   "cell_type": "code",
   "execution_count": 27,
   "id": "76208422",
   "metadata": {},
   "outputs": [
    {
     "name": "stdout",
     "output_type": "stream",
     "text": [
      "섭씨온도를 입력하세요: 30\n",
      "섭씨 30 도는 화씨 86.0 도 입니다.\n"
     ]
    }
   ],
   "source": [
    "celsius = int(input('섭씨온도를 입력하세요: '))\n",
    "fahrenheit = (9/5) * celsius + 32\n",
    "print('섭씨', celsius, '도는 화씨', fahrenheit,'도 입니다.')"
   ]
  },
  {
   "cell_type": "markdown",
   "id": "4b7d37b3",
   "metadata": {},
   "source": [
    "## 2.10"
   ]
  },
  {
   "cell_type": "code",
   "execution_count": 29,
   "id": "4924a0f4",
   "metadata": {},
   "outputs": [
    {
     "name": "stdout",
     "output_type": "stream",
     "text": [
      "원의 반지름을 입력하세요: 11\n",
      "원의 둘레 =  69.115024 원의 면적 =  380.132632\n"
     ]
    }
   ],
   "source": [
    "PI = 3.141592\n",
    "r = int(input('원의 반지름을 입력하세요: '))\n",
    "round = 2*PI*r\n",
    "area = r*r*PI\n",
    "print('원의 둘레 = ', round, '원의 면적 = ', area)"
   ]
  },
  {
   "cell_type": "markdown",
   "id": "8bfe76c2",
   "metadata": {},
   "source": [
    "## 2.11"
   ]
  },
  {
   "cell_type": "code",
   "execution_count": 44,
   "id": "48c5a3ca",
   "metadata": {},
   "outputs": [
    {
     "name": "stdout",
     "output_type": "stream",
     "text": [
      "It's really hot!\n",
      "I said \"Hello!\" to him.\n",
      "He said \"what's there?\"\n",
      "Newline character is \\n, Tab character is \\t.\n",
      "Working direcotry is C:\\workspace\\mywork.\n"
     ]
    }
   ],
   "source": [
    "print(\"It's really hot!\")\n",
    "print('I said \"Hello!\" to him.')\n",
    "print(\"He said \\\"what's there?\\\"\")\n",
    "print(\"Newline character is \\\\n, Tab character is \\\\t.\")\n",
    "print('Working direcotry is C:\\\\workspace\\\\mywork.')"
   ]
  }
 ],
 "metadata": {
  "kernelspec": {
   "display_name": "Python 3 (ipykernel)",
   "language": "python",
   "name": "python3"
  },
  "language_info": {
   "codemirror_mode": {
    "name": "ipython",
    "version": 3
   },
   "file_extension": ".py",
   "mimetype": "text/x-python",
   "name": "python",
   "nbconvert_exporter": "python",
   "pygments_lexer": "ipython3",
   "version": "3.9.7"
  }
 },
 "nbformat": 4,
 "nbformat_minor": 5
}
