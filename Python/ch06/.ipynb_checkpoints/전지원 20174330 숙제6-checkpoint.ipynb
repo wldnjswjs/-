{
 "cells": [
  {
   "cell_type": "markdown",
   "id": "0cf79ddb-97ec-4c8c-a432-6a81f0985fa1",
   "metadata": {},
   "source": [
    "# 중요사항 정리\n",
    "## 함수\n",
    "함수는 우리가 반복적으로 사용하는 코드를 묶은 것. 코드의 덩어리   \n",
    "객체는 코드 중에서 독립적인 단위로 분리할 수 있는 조각이다.   \n",
    "모듈은 프로그램의 일부를 가지고 있는 독립적인 파일이다.\n",
    "## def 예약어\n",
    "def 함수이름(매개변수):   \n",
    "    실행내용   \n",
    "함수이름(인자) - 호출 시   \n",
    "이런식으로 함수를 작성하고 함수를 호출할때는 함수의 이름을 사용하여 호출하면 된다.   \n",
    "함수를 작성해놓으면 필요할 때 언제든지 불러 사용가능하다.   \n",
    "함수 호출시 전달되는 실제 값을 인자라고 하고, 함수 내에서 전달받는 변수를 매개변수라고 한다.\n",
    "여러개의 인자와 매개변수를 동시에 사용할 때는 매개변수의 개수와 인자의 개수가 정확히 일치하여야 한다.   \n",
    "키워드 인자를 사용하면 여러개의 인자를 입력할 때 혼돈을 방지할 수 있다. 인자는 키워드 인자를 사용하기 전에 사용해야 오류를 방지 할 수 있다.   \n",
    "디폴트 값이 있는 매개변수는 인자가 부족해도 기본값을 알아서 넣어주고 순서를 바꾸어도 인자를 넣을 수 있다.   \n",
    "위치 인자: 2개 이상의 인자를 사용하는 함수에서 인자 들어가는 순서가 다르면 리턴 값도 달라지는 인자를 말한다.\n",
    "키워드 인자: 매개변수의 이름을 사용하여 인자를 지정하면 순서가 달라도 리턴 값이 달라지지 않는다.\n",
    "## 전역변수 지역변수\n",
    "전역변수: 함수 외에서 선언된 함수로 전체에서 사용된다.   \n",
    "지역변수: 함수 내에서 선언된 함수로 함수 내에서 사용된다.   \n",
    "global 함수이름 - 외부의 전역변수를 불러서 사용할때 사용하는 함수.   \n",
    "## 재귀함수\n",
    "함수 내부에서 자기 자신을 호출하는 함수\n",
    "## 모듈\n",
    "모듈이란 파이썬 함수나 변수 또는 클래스들을 모아놓은 스키립트 파일을 말한다."
   ]
  },
  {
   "cell_type": "markdown",
   "id": "66286972-bda2-4857-8bdc-63992575d227",
   "metadata": {},
   "source": [
    "# 자기점검\n",
    "6.7문제에서 재귀함수를 사용하지 않고 for문을 사용하여 n!을 구하는 방법을 모르겠습니다."
   ]
  },
  {
   "cell_type": "markdown",
   "id": "10078d3e-48bd-4a9b-bbd7-287b426ad6f4",
   "metadata": {},
   "source": [
    "# 심화문제 풀이\n",
    "### 6.1"
   ]
  },
  {
   "cell_type": "code",
   "execution_count": 2,
   "id": "6a388d38-8f23-453e-89af-a66dade7b0a6",
   "metadata": {},
   "outputs": [
    {
     "name": "stdout",
     "output_type": "stream",
     "text": [
      "3의 제곱은 :  9\n",
      "4의 제곱은 :  16\n"
     ]
    }
   ],
   "source": [
    "def square(n):\n",
    "    return n**2\n",
    "print('3의 제곱은 : ',square(3))\n",
    "print('4의 제곱은 : ',square(4))"
   ]
  },
  {
   "cell_type": "markdown",
   "id": "4da9e98b-32ef-4315-bc43-5e3d5cd97621",
   "metadata": {},
   "source": [
    "### 6.2"
   ]
  },
  {
   "cell_type": "code",
   "execution_count": 7,
   "id": "4c7e0b68-eed8-489c-8992-a22209697db4",
   "metadata": {},
   "outputs": [
    {
     "name": "stdout",
     "output_type": "stream",
     "text": [
      "100과 200중 큰 수는:  200\n",
      "100과 200중 작은 수는:  100\n"
     ]
    }
   ],
   "source": [
    "def max2(m, n):\n",
    "    if m > n:\n",
    "        return m\n",
    "    else:\n",
    "        return n\n",
    "\n",
    "def min2(m, n):\n",
    "    if m < n:\n",
    "        return m\n",
    "    else:\n",
    "        return n\n",
    "    \n",
    "print('100과 200중 큰 수는: ', max2(100, 200))\n",
    "print('100과 200중 작은 수는: ', min2(100, 200))"
   ]
  },
  {
   "cell_type": "markdown",
   "id": "96f47644-ca7c-4e39-9a24-641b1a9a5f4d",
   "metadata": {},
   "source": [
    "### 6.3"
   ]
  },
  {
   "cell_type": "code",
   "execution_count": 13,
   "id": "b004c33a-874f-453f-9579-218c3d551c52",
   "metadata": {},
   "outputs": [
    {
     "name": "stdin",
     "output_type": "stream",
     "text": [
      "3 수를 입력하시오 : 34 66 20\n"
     ]
    },
    {
     "name": "stdout",
     "output_type": "stream",
     "text": [
      "가장 큰 수 : 66\n",
      "가장 작은 수 : 20\n"
     ]
    }
   ],
   "source": [
    "n1, n2, n3 = map(int, input('3 수를 입력하시오 :').split())\n",
    "\n",
    "def max3(n1, n2, n3):\n",
    "    if n1 >= n2:\n",
    "        if n2 >= n3:\n",
    "            return n1\n",
    "        else:\n",
    "            if n1 < n3:\n",
    "                return n3\n",
    "    else: \n",
    "        if n1 >= n3:\n",
    "            return n2\n",
    "        else:\n",
    "            if n2 < n3:\n",
    "                return n3\n",
    "            \n",
    "def min3(n1, n2, n3):\n",
    "    if n1 <= n2:\n",
    "        if n2 <= n3:\n",
    "            return n1\n",
    "        else:\n",
    "            if n1 > n3:\n",
    "                return n3\n",
    "    else: \n",
    "        if n1 <= n3:\n",
    "            return n2\n",
    "        else:\n",
    "            if n2 > n3:\n",
    "                return n3\n",
    "\n",
    "Max = max3(n1, n2, n3)\n",
    "Min = min3(n1, n2, n3)\n",
    "print('가장 큰 수 :', Max)\n",
    "print('가장 작은 수 :', Min) "
   ]
  },
  {
   "cell_type": "code",
   "execution_count": 1,
   "id": "b5e7ead2-df01-46f8-9001-4a42af4bc13e",
   "metadata": {},
   "outputs": [],
   "source": [
    "def max3(n1, n2, n3):\n",
    "    biggest = n1\n",
    "    for n in [n2, n3]:\n",
    "        if n >= biggest:\n",
    "            biggest = n\n",
    "    return biggest\n",
    "\n",
    "def min3(n1, n2, n3):\n",
    "    smallest = n1\n",
    "    for n in [n2, n3]:\n",
    "        if n <= smallest:\n",
    "            smallest = n\n",
    "    return smallest\n",
    "\n",
    "n1, n2, n3 = map(int, input('세 정수를 입력하세요:').split())\n",
    "\n",
    "print('가장 큰 수 : ', max3(n1, n2, n3))\n",
    "print('가장 작은 수 : ', min3(n1, n2, n3))\n"
   ]
  },
  {
   "cell_type": "markdown",
   "id": "fc031bae-039f-44d4-b6e7-6c437077d6fc",
   "metadata": {},
   "source": [
    "### 6.4"
   ]
  },
  {
   "cell_type": "code",
   "execution_count": 35,
   "id": "299cac74-c804-438f-9166-df5c3719c5be",
   "metadata": {},
   "outputs": [
    {
     "name": "stdin",
     "output_type": "stream",
     "text": [
      "3 수를 입력하시오 :  34 66 20\n"
     ]
    },
    {
     "name": "stdout",
     "output_type": "stream",
     "text": [
      "가장 큰 수 :  66\n",
      "가장 작은 수 :  20\n"
     ]
    }
   ],
   "source": [
    "n1, n2, n3 = map(int, input(\"3 수를 입력하시오 : \").split())\n",
    " \n",
    "def max_and_min(n1, n2, n3) :\n",
    "    if n1 > n2 and n1 > n3 :   \n",
    "        if n2 > n3 :            \n",
    "            return n1, n3\n",
    "        else :\n",
    "            return n1, n2\n",
    " \n",
    "    elif n2 > n1 and n2 > n3 : \n",
    "        if n1 > n3 :\n",
    "            return n2, n3\n",
    "        else :\n",
    "            return n2, n1\n",
    " \n",
    "    else :                     \n",
    "        if n1 > n2 :\n",
    "            return n3, n2\n",
    "        else :\n",
    "            return n3, n1\n",
    " \n",
    " Max, Min = max_and_min(n1, n2, n3)  \n",
    "print(\"가장 큰 수 : \", Max)\n",
    "print(\"가장 작은 수 : \", Min)\n",
    " "
   ]
  },
  {
   "cell_type": "markdown",
   "id": "623c2348-b219-4744-a7df-2198b3105d26",
   "metadata": {},
   "source": [
    "### 6.5"
   ]
  },
  {
   "cell_type": "code",
   "execution_count": 19,
   "id": "eddf3bb0-0595-4089-80f0-b71a143f729e",
   "metadata": {},
   "outputs": [
    {
     "name": "stdout",
     "output_type": "stream",
     "text": [
      "32.0\n",
      "50.0\n",
      "68.0\n",
      "86.0\n",
      "104.0\n",
      "122.0\n"
     ]
    }
   ],
   "source": [
    "def cel2fah(cel):\n",
    "    fah = (9/5) * cel + 32\n",
    "    return fah\n",
    "\n",
    "for cel in range(0,51,10):\n",
    "    temp = cel2fah(cel)\n",
    "    print(temp)"
   ]
  },
  {
   "cell_type": "code",
   "execution_count": 7,
   "id": "935969c9-2974-4dce-a411-ffd5df5bcba7",
   "metadata": {},
   "outputs": [
    {
     "name": "stdout",
     "output_type": "stream",
     "text": [
      "celsius   0 : fahrenheit   32.0\n",
      "celsius  10 : fahrenheit   50.0\n",
      "celsius  20 : fahrenheit   68.0\n",
      "celsius  30 : fahrenheit   86.0\n",
      "celsius  40 : fahrenheit  104.0\n",
      "celsius  50 : fahrenheit  122.0\n",
      "celsius   0 : fahrenheit   32.0\n",
      "celsius  10 : fahrenheit   50.0\n",
      "celsius  20 : fahrenheit   68.0\n",
      "celsius  30 : fahrenheit   86.0\n",
      "celsius  40 : fahrenheit  104.0\n",
      "celsius  50 : fahrenheit  122.0\n"
     ]
    }
   ],
   "source": [
    "def cel2fah(celsius):\n",
    "    fah = (9/5) * celsius + 32\n",
    "    return fah\n",
    "\n",
    "for cel in [0, 10, 20, 30, 40, 50]:\n",
    "    print('celsius {:3d} : fahrenheit {:6.1f}'.format(cel, cel2fah(cel)))\n",
    "\n",
    "    \n",
    "for cel in [0, 10, 20, 30, 40, 50]:\n",
    "    print(f'celsius {cel:3d} : fahrenheit {cel2fah(cel):6.1f}')\n"
   ]
  },
  {
   "cell_type": "markdown",
   "id": "73f16f84-1654-4c70-a72e-b4b34773ddc0",
   "metadata": {},
   "source": [
    "### 6.6"
   ]
  },
  {
   "cell_type": "code",
   "execution_count": 10,
   "id": "9fe821ee-8f80-4ee5-9428-810384bb65bd",
   "metadata": {},
   "outputs": [
    {
     "name": "stdin",
     "output_type": "stream",
     "text": [
      "소수 검사를 할 정수를 입력하시오 :  4\n"
     ]
    },
    {
     "name": "stdout",
     "output_type": "stream",
     "text": [
      "소수인가요? : False\n"
     ]
    }
   ],
   "source": [
    "def is_prime(x) :\n",
    "    for i in range(2, x) :       \n",
    "        if num % i == 0 :       \n",
    "            return False\n",
    "        else :                  \n",
    "            continue\n",
    "    return True                 \n",
    " \n",
    "num = int(input('소수 검사를 할 정수를 입력하시오 : '))\n",
    "print('소수인가요? :', is_prime(num))"
   ]
  },
  {
   "cell_type": "code",
   "execution_count": 13,
   "id": "57f6b027-2101-4016-9d5b-525340577ca7",
   "metadata": {},
   "outputs": [
    {
     "name": "stdin",
     "output_type": "stream",
     "text": [
      "소수 검사를 할 정수를 입력하시오 :  13\n"
     ]
    },
    {
     "name": "stdout",
     "output_type": "stream",
     "text": [
      "소수인가요? : True\n"
     ]
    }
   ],
   "source": [
    "def is_prime(n):\n",
    "    prime = True\n",
    "    for i in range(2, n):\n",
    "        if n % i == 0:\n",
    "            prime = False\n",
    "            break\n",
    "    return prime\n",
    "\n",
    "n = int(input('소수 검사를 할 정수를 입력하시오 : '))\n",
    "print('소수인가요? :', is_prime(n))"
   ]
  },
  {
   "cell_type": "markdown",
   "id": "8744a3b2-ed20-4305-80eb-3f00a5fe3cda",
   "metadata": {},
   "source": [
    "### 6.7"
   ]
  },
  {
   "cell_type": "code",
   "execution_count": 3,
   "id": "e95ca0df-7fff-4bcb-a25a-727b58aea3c8",
   "metadata": {},
   "outputs": [
    {
     "name": "stdout",
     "output_type": "stream",
     "text": [
      "5! = 120\n",
      "7! = 5040\n",
      "10! = 3628800\n"
     ]
    }
   ],
   "source": [
    "def factorial(n):\n",
    "    fact = 1\n",
    "    for i in range(n,0,-1):\n",
    "        fact = fact * i\n",
    "    return fact\n",
    "\n",
    "for n in [5, 7, 10]:\n",
    "    print('{}! = {}'.format(n, factorial(n)))"
   ]
  },
  {
   "cell_type": "markdown",
   "id": "c3694623-4293-489f-9469-b5f12f70aa89",
   "metadata": {},
   "source": [
    "### 6.8"
   ]
  },
  {
   "cell_type": "code",
   "execution_count": 1,
   "id": "afd77599-7f67-416e-90a3-910118726f52",
   "metadata": {},
   "outputs": [
    {
     "name": "stdin",
     "output_type": "stream",
     "text": [
      "x1 :  4\n",
      "y1 :  2\n",
      "x2 :  2\n",
      "y2 :  1\n"
     ]
    },
    {
     "name": "stdout",
     "output_type": "stream",
     "text": [
      "(4.0, 2.0) 과 (2.0, 1.0) 사이의 거리는 2.23606797749979\n"
     ]
    }
   ],
   "source": [
    "def distance(x1, y1, x2, y2) :\n",
    "    distance = ((x1 - x2) ** 2 + (y1 - y2) ** 2) ** (1/2)\n",
    "    return distance\n",
    " \n",
    "x1 = float(input('x1 : '))\n",
    "y1 = float(input('y1 : '))\n",
    "x2 = float(input('x2 : '))\n",
    "y2 = float(input('y2 : '))\n",
    " \n",
    "A = (x1, y1)\n",
    "B = (x2, y2)\n",
    "\n",
    "\n",
    "print(A, '과', B, '사이의 거리는', distance(x1=x1, x2=x2, y1=y1, y2=y2 )) # 키워드 인자 사용"
   ]
  },
  {
   "cell_type": "code",
   "execution_count": 2,
   "id": "2c54ac93-7b84-4eb2-8569-a9145237080a",
   "metadata": {},
   "outputs": [
    {
     "name": "stdin",
     "output_type": "stream",
     "text": [
      "x1 :  4\n",
      "y1 :  2\n",
      "x2 :  2\n",
      "y2 :  1\n"
     ]
    },
    {
     "name": "stdout",
     "output_type": "stream",
     "text": [
      "(4.0, 2.0) 과 (2.0, 1.0) 사이의 거리는 2.23606797749979\n"
     ]
    }
   ],
   "source": [
    "def distance(x1, y1, x2, y2) :\n",
    "    distance = ((x1 - x2) ** 2 + (y1 - y2) ** 2) ** (1/2)\n",
    "    return distance\n",
    " \n",
    "x1 = float(input('x1 : '))\n",
    "y1 = float(input('y1 : '))\n",
    "x2 = float(input('x2 : '))\n",
    "y2 = float(input('y2 : '))\n",
    " \n",
    "A = (x1, y1)\n",
    "B = (x2, y2)\n",
    "\n",
    "\n",
    "print(A, '과', B, '사이의 거리는', distance(x1, y1, x2, y2)) # 위치 인자 사용"
   ]
  },
  {
   "cell_type": "code",
   "execution_count": null,
   "id": "0dfed57e-d427-44a1-9d05-abca90d62115",
   "metadata": {},
   "outputs": [],
   "source": []
  }
 ],
 "metadata": {
  "kernelspec": {
   "display_name": "Python 3 (ipykernel)",
   "language": "python",
   "name": "python3"
  },
  "language_info": {
   "codemirror_mode": {
    "name": "ipython",
    "version": 3
   },
   "file_extension": ".py",
   "mimetype": "text/x-python",
   "name": "python",
   "nbconvert_exporter": "python",
   "pygments_lexer": "ipython3",
   "version": "3.9.7"
  }
 },
 "nbformat": 4,
 "nbformat_minor": 5
}
