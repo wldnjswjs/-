{
 "cells": [
  {
   "cell_type": "markdown",
   "id": "691aeeb5",
   "metadata": {},
   "source": [
    "# 중요한 사항 정리"
   ]
  },
  {
   "cell_type": "markdown",
   "id": "3e641f32",
   "metadata": {},
   "source": [
    "## 연산자\n",
    "### 할당 연산자\n",
    "'=' 기호가 할당 연산자이다.(대입 연산자라고도 함)   \n",
    "다중 할당문 (ex. x = y= 100)   \n",
    "동시 할당문 (n1, n2 = 100, 200)\n",
    "### 수식과 연산자\n",
    "수식: 피연산자들과 연산자의 조합   \n",
    "연산자: 연산을 나타내는 기호   \n",
    "-산술 연산자: 사칙연산 등을 의미한다.   \n",
    "피연산자: 숫자 등   \n",
    "파이썬에서 나눗셈 연산은 항상 실수로 계산됨.   \n",
    "거듭제곱 연산자는 다른 산술 연산자보다 우선순위를 갖는다.\n",
    "### 복합 할당 연산자\n",
    "산술 연산자오 할당 연산자를 결합하여 조금 간략하게 표현.(+=, -= 등등)\n",
    "### 비교 연산자\n",
    "두 값의 크기를 비교하는 연산자. True or False(부울형)값으로 반환한다.(==, != 등등)\n",
    "### 논리 연산자\n",
    "AND, OR, NOT등을 표현하는 연산자. (x and y, x or y, not x)\n",
    "### 비트 연산자\n",
    "정보를 0과 1로 구성된 2진수를 사용한 연산자. bin()사용\n",
    "### 연산자 우선순위\n",
    "연산자 사이에도 우선순위가 존재한다.   \n",
    "지수 연산자가 우선순위가 가장 높고 논리 연산자가 가장 낮다.   \n",
    "괄호> 지수 연산자> 단항 연산자> 곱셈, 나머지> 덧셈, 뺄셈> 비교 연산자> 동등 연산자> 논리 연산자 순\n",
    "### 랜덤 모듈과 math 모듈\n",
    "import random: 임의의 수(난수)를 생성.   \n",
    "import math: 수학 함수를 생성할 때 사용"
   ]
  },
  {
   "cell_type": "markdown",
   "id": "ecf51653",
   "metadata": {},
   "source": [
    "# 자가 점검"
   ]
  },
  {
   "cell_type": "markdown",
   "id": "866b6ba0",
   "metadata": {},
   "source": [
    "특별히 어려움 점은 없었으나 모듈 부분은 조금 생소했다."
   ]
  },
  {
   "cell_type": "markdown",
   "id": "ba251ef6",
   "metadata": {},
   "source": [
    "# 심화문제 풀기"
   ]
  },
  {
   "cell_type": "markdown",
   "id": "8f91f007",
   "metadata": {},
   "source": [
    "## 3.1"
   ]
  },
  {
   "cell_type": "code",
   "execution_count": 1,
   "id": "f64ecd03",
   "metadata": {},
   "outputs": [
    {
     "name": "stdout",
     "output_type": "stream",
     "text": [
      "2 2 4\n",
      "3 2 9\n",
      "4 2 16\n",
      "5 2 25\n",
      "6 2 36\n"
     ]
    }
   ],
   "source": [
    "for a in range(2,7):\n",
    "    n = 2\n",
    "    print(a, n,a**2)"
   ]
  },
  {
   "cell_type": "markdown",
   "id": "61889d0c",
   "metadata": {},
   "source": [
    "## 3.2"
   ]
  },
  {
   "cell_type": "code",
   "execution_count": 14,
   "id": "4ac9dd81",
   "metadata": {},
   "outputs": [
    {
     "name": "stdout",
     "output_type": "stream",
     "text": [
      "n의 제곱근=  1.4142135623730951\n",
      "n의 제곱근=  1.7320508075688772\n",
      "n의 제곱근=  2.0\n",
      "n의 제곱근=  2.23606797749979\n",
      "n의 제곱근=  2.449489742783178\n",
      "n의 제곱근=  2.6457513110645907\n",
      "n의 제곱근=  2.8284271247461903\n",
      "n의 제곱근=  3.0\n",
      "n의 제곱근=  3.1622776601683795\n"
     ]
    }
   ],
   "source": [
    "for n in range(2,11):\n",
    "    print('n의 제곱근= ', n**(1/2))"
   ]
  },
  {
   "cell_type": "markdown",
   "id": "212938fc",
   "metadata": {},
   "source": [
    "## 3.3"
   ]
  },
  {
   "cell_type": "code",
   "execution_count": 5,
   "id": "adc96d4d",
   "metadata": {},
   "outputs": [
    {
     "name": "stdout",
     "output_type": "stream",
     "text": [
      "2 4 8 16 32 64 128 256 512 1024\n"
     ]
    }
   ],
   "source": [
    "num = 2\n",
    "print(num, num << 1, num<<2, num<<3, num<<4, \n",
    "      num<<5, num<<6, num<<7, num<<8, num<<9)"
   ]
  },
  {
   "cell_type": "markdown",
   "id": "7cac8e10",
   "metadata": {},
   "source": [
    "## 3.4"
   ]
  },
  {
   "cell_type": "code",
   "execution_count": 4,
   "id": "fe11e52a",
   "metadata": {},
   "outputs": [
    {
     "name": "stdout",
     "output_type": "stream",
     "text": [
      "정수를 입력하세요: 120\n",
      "입력된 정수는 0에서 100의 범위 안에 있는 짝수인가요?\n"
     ]
    },
    {
     "data": {
      "text/plain": [
       "(None, False)"
      ]
     },
     "execution_count": 4,
     "metadata": {},
     "output_type": "execute_result"
    }
   ],
   "source": [
    "num = int(input('정수를 입력하세요: '))\n",
    "print('입력된 정수는 0에서 100의 범위 안에 있는 짝수인가요?'), num % 2 == 0 and 0 <= num <= 100"
   ]
  },
  {
   "cell_type": "code",
   "execution_count": 5,
   "id": "04f50ac3",
   "metadata": {},
   "outputs": [
    {
     "name": "stdout",
     "output_type": "stream",
     "text": [
      "정수를 입력하세요: 88\n",
      "입력된 정수는 0에서 100의 범위 안에 있는 짝수인가요?\n"
     ]
    },
    {
     "data": {
      "text/plain": [
       "(None, True)"
      ]
     },
     "execution_count": 5,
     "metadata": {},
     "output_type": "execute_result"
    }
   ],
   "source": [
    "num = int(input('정수를 입력하세요: '))\n",
    "print('입력된 정수는 0에서 100의 범위 안에 있는 짝수인가요?'), num % 2 == 0 and 0 <= num <= 100"
   ]
  },
  {
   "cell_type": "markdown",
   "id": "2bc6d107",
   "metadata": {},
   "source": [
    "## 3.5"
   ]
  },
  {
   "cell_type": "code",
   "execution_count": 6,
   "id": "b312fa4b",
   "metadata": {},
   "outputs": [
    {
     "name": "stdout",
     "output_type": "stream",
     "text": [
      "0b101\n",
      "0b110\n"
     ]
    }
   ],
   "source": [
    "print(bin(5))\n",
    "print(bin(6))"
   ]
  },
  {
   "cell_type": "markdown",
   "id": "bbf24ce2",
   "metadata": {},
   "source": [
    "## 3.6"
   ]
  },
  {
   "cell_type": "code",
   "execution_count": 8,
   "id": "237d77be",
   "metadata": {},
   "outputs": [
    {
     "name": "stdout",
     "output_type": "stream",
     "text": [
      "정수 a를 입력하시오: 202\n",
      "정수 b를 입력하시오: 50\n",
      "a/b의 몫: 4\n",
      "a/b의 나머지:  2\n"
     ]
    }
   ],
   "source": [
    "a = int(input('정수 a를 입력하시오: '))\n",
    "b = int(input('정수 b를 입력하시오: '))\n",
    "print('a/b의 몫:', a//b)\n",
    "print('a/b의 나머지: ', int(a % b))"
   ]
  },
  {
   "cell_type": "markdown",
   "id": "97557691",
   "metadata": {},
   "source": [
    "## 3.7"
   ]
  },
  {
   "cell_type": "code",
   "execution_count": 1,
   "id": "55376284",
   "metadata": {},
   "outputs": [
    {
     "name": "stdout",
     "output_type": "stream",
     "text": [
      "세 자리 정수를 입력하시오: 349\n",
      "백의 자리:  3\n",
      "십의 자리:  4\n",
      "일의 자리:  9\n"
     ]
    }
   ],
   "source": [
    "num = int(input('세 자리 정수를 입력하시오: '))\n",
    "first = num // 100\n",
    "second = num % 100 // 10\n",
    "third = num % 10\n",
    "print('백의 자리: ', first)\n",
    "print('십의 자리: ', second)\n",
    "print('일의 자리: ', third)"
   ]
  },
  {
   "cell_type": "markdown",
   "id": "6ed29b4e",
   "metadata": {},
   "source": [
    "## 3.8-1"
   ]
  },
  {
   "cell_type": "code",
   "execution_count": 7,
   "id": "c6f56126",
   "metadata": {},
   "outputs": [
    {
     "name": "stdout",
     "output_type": "stream",
     "text": [
      "세 자리 정수를 입력하시오: 349\n",
      "9\n",
      "4\n",
      "3\n"
     ]
    }
   ],
   "source": [
    "n = int(input('세 자리 정수를 입력하시오: '))\n",
    "first = n % 10\n",
    "second = n % 100 // 10\n",
    "third = n // 100\n",
    "print(first)\n",
    "print(second)\n",
    "print(third)"
   ]
  },
  {
   "cell_type": "markdown",
   "id": "cf9577dd",
   "metadata": {},
   "source": [
    "## 3.8-2"
   ]
  },
  {
   "cell_type": "code",
   "execution_count": 8,
   "id": "bf3dd9f3",
   "metadata": {},
   "outputs": [
    {
     "name": "stdout",
     "output_type": "stream",
     "text": [
      "세 자리 정수를 입력하시오: 349\n",
      "9 4 3\n"
     ]
    }
   ],
   "source": [
    "n = int(input('세 자리 정수를 입력하시오: '))\n",
    "first = n % 10\n",
    "second = n % 100 // 10\n",
    "third = n // 100\n",
    "print(first,second,third)"
   ]
  },
  {
   "cell_type": "markdown",
   "id": "d93338d4",
   "metadata": {},
   "source": [
    "## 3.9"
   ]
  },
  {
   "cell_type": "code",
   "execution_count": 2,
   "id": "adf92044",
   "metadata": {},
   "outputs": [
    {
     "name": "stdout",
     "output_type": "stream",
     "text": [
      "평균 시속(km/h)을 입력하세요: 46.5\n",
      "이동 시간(h)을 입력하세요: 12.342\n",
      "평균 시속:  46.5 km/h\n",
      "이동 시간:  12 시간 20 분 31 초\n",
      "이동 거리:  573.903 km\n"
     ]
    }
   ],
   "source": [
    "speed = float(input('평균 시속(km/h)을 입력하세요: '))\n",
    "hour = float(input('이동 시간(h)을 입력하세요: '))\n",
    "minute = (hour-int(hour)) * 60\n",
    "second = (minute - int(minute)) * 60\n",
    "print('평균 시속: ',speed,'km/h')\n",
    "print('이동 시간: ',int(hour),'시간',int(minute),'분',int(second),'초')\n",
    "print('이동 거리: ', speed * hour, 'km')"
   ]
  },
  {
   "cell_type": "markdown",
   "id": "2697a557",
   "metadata": {},
   "source": [
    "## 3.10"
   ]
  },
  {
   "cell_type": "code",
   "execution_count": 3,
   "id": "6f3afc47",
   "metadata": {},
   "outputs": [
    {
     "name": "stdout",
     "output_type": "stream",
     "text": [
      "x1 좌표를 입력하시오: 0\n",
      "y1 좌표를 입력하시오: 0\n",
      "x2 좌표를 입력하시오: 3\n",
      "y2 좌표를 입력하시오: 4\n",
      "두점의 거리 : 5.0\n"
     ]
    }
   ],
   "source": [
    "x1 = int(input('x1 좌표를 입력하시오: '))\n",
    "y1 = int(input('y1 좌표를 입력하시오: '))\n",
    "x2 = int(input('x2 좌표를 입력하시오: '))\n",
    "y2 = int(input('y2 좌표를 입력하시오: '))\n",
    "distance = ((x2-x1)**2 + (y2-y1)**2)**(1/2)\n",
    "print('두점의 거리 :', distance)"
   ]
  },
  {
   "cell_type": "markdown",
   "id": "676ae590",
   "metadata": {},
   "source": [
    "## 3.11"
   ]
  },
  {
   "cell_type": "code",
   "execution_count": 9,
   "id": "673ea115",
   "metadata": {},
   "outputs": [
    {
     "name": "stdout",
     "output_type": "stream",
     "text": [
      "x1 좌표를 입력하시오: 0\n",
      "y1 좌표를 입력하시오: 0\n",
      "x2 좌표를 입력하시오: 3\n",
      "y2 좌표를 입력하시오: 4\n",
      "직각삼각형의 면적은 : 6.0\n"
     ]
    }
   ],
   "source": [
    "x1 = int(input('x1 좌표를 입력하시오: '))\n",
    "y1 = int(input('y1 좌표를 입력하시오: '))\n",
    "x2 = int(input('x2 좌표를 입력하시오: '))\n",
    "y2 = int(input('y2 좌표를 입력하시오: '))\n",
    "area = (x2-x1)*(y2-y1)*1/2\n",
    "print('직각삼각형의 면적은 :', area)"
   ]
  },
  {
   "cell_type": "markdown",
   "id": "21ec5034",
   "metadata": {},
   "source": [
    "## 3.12"
   ]
  },
  {
   "cell_type": "code",
   "execution_count": 20,
   "id": "d5032f29",
   "metadata": {},
   "outputs": [
    {
     "name": "stdout",
     "output_type": "stream",
     "text": [
      "(1) 모서리의 길이가 13인 정육면체 부피:  2197\n",
      "(2) 모서리의 길이가 22인 정육면체 부피:  10648\n",
      "(3) 가로, 세로, 길이가 각각 17,25,16인 직육면체의 부피: 6800\n",
      "(4) 반지름과 높이가 각각 10, 15인 원뿔 부피:  1570.0\n",
      "(5) 반지름이 25인 구 부피:  65416.666666666664\n",
      "(6) 반지름과 높이가 각각 10, 15인 원기둥 부피:  4710.0\n",
      "(7.1) 반지름과 높이가 각각 10, 15인 원뿔 부피:  1570.7963267948965\n",
      "(7.2) 반지름이 25인 구 부피:  65449.84694978735\n",
      "(7.3) 반지름과 높이가 각각 10, 15인 원기둥 부피:  4712.38898038469\n"
     ]
    }
   ],
   "source": [
    "s = 13\n",
    "print('(1) 모서리의 길이가 13인 정육면체 부피: ', s**3)\n",
    "s = 22\n",
    "print('(2) 모서리의 길이가 22인 정육면체 부피: ', s**3)\n",
    "l = 16 \n",
    "w = 17 \n",
    "h = 25\n",
    "print('(3) 가로, 세로, 길이가 각각 17,25,16인 직육면체의 부피:', l*w*h)\n",
    "pi = 3.14 \n",
    "r = 10 \n",
    "h = 15\n",
    "print('(4) 반지름과 높이가 각각 10, 15인 원뿔 부피: ', pi*r**2*h*1/3)\n",
    "pi = 3.14 \n",
    "r = 25\n",
    "print('(5) 반지름이 25인 구 부피: ', 4/3*pi*r**3)\n",
    "pi = 3.14 \n",
    "r = 10 \n",
    "h = 15\n",
    "print('(6) 반지름과 높이가 각각 10, 15인 원기둥 부피: ', pi*r**2*h)\n",
    "import math\n",
    "math.pi\n",
    "r = 10\n",
    "h = 15\n",
    "print('(7.1) 반지름과 높이가 각각 10, 15인 원뿔 부피: ', math.pi*r**2*h*1/3)\n",
    "r = 25\n",
    "print('(7.2) 반지름이 25인 구 부피: ', 4/3*math.pi*r**3)\n",
    "r = 10 \n",
    "h = 15\n",
    "print('(7.3) 반지름과 높이가 각각 10, 15인 원기둥 부피: ', math.pi*r**2*h)"
   ]
  }
 ],
 "metadata": {
  "kernelspec": {
   "display_name": "Python 3 (ipykernel)",
   "language": "python",
   "name": "python3"
  },
  "language_info": {
   "codemirror_mode": {
    "name": "ipython",
    "version": 3
   },
   "file_extension": ".py",
   "mimetype": "text/x-python",
   "name": "python",
   "nbconvert_exporter": "python",
   "pygments_lexer": "ipython3",
   "version": "3.9.7"
  }
 },
 "nbformat": 4,
 "nbformat_minor": 5
}
